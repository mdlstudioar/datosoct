{
 "cells": [
  {
   "cell_type": "markdown",
   "id": "d3c02167",
   "metadata": {},
   "source": [
    "## EDA completo - Práctica Final\n",
    "\n",
    "##### Vamos a trabajar con el siguiente dataset: https://raw.githubusercontent.com/mdlstudioar/datosoct/main/IATAinfo%20(2)\n"
   ]
  },
  {
   "cell_type": "markdown",
   "id": "b5bcada9",
   "metadata": {},
   "source": [
    "### 1. Importar las librerías y módulos que vayamos a necesitar:"
   ]
  },
  {
   "cell_type": "code",
   "execution_count": 1,
   "id": "13a8541d",
   "metadata": {},
   "outputs": [
    {
     "name": "stderr",
     "output_type": "stream",
     "text": [
      "/Users/magalidominguezlalli/opt/anaconda3/lib/python3.9/site-packages/scipy/__init__.py:146: UserWarning: A NumPy version >=1.16.5 and <1.23.0 is required for this version of SciPy (detected version 1.23.0\n",
      "  warnings.warn(f\"A NumPy version >={np_minversion} and <{np_maxversion}\"\n"
     ]
    }
   ],
   "source": [
    "import numpy as np \n",
    "import pandas as pd \n",
    "import matplotlib.pyplot as plt \n",
    "import seaborn as sns\n",
    "import plotly.express as px"
   ]
  },
  {
   "cell_type": "code",
   "execution_count": 2,
   "id": "dbdf7fe6",
   "metadata": {},
   "outputs": [
    {
     "data": {
      "text/plain": [
       "'1.23.0'"
      ]
     },
     "execution_count": 2,
     "metadata": {},
     "output_type": "execute_result"
    }
   ],
   "source": [
    "# Para chequear versiones:\n",
    "\n",
    "np.__version__"
   ]
  },
  {
   "cell_type": "markdown",
   "id": "3d2b5f1d",
   "metadata": {},
   "source": [
    "### 2. Vamos a acceder al dataset:"
   ]
  },
  {
   "cell_type": "code",
   "execution_count": 3,
   "id": "c40add1a",
   "metadata": {},
   "outputs": [
    {
     "data": {
      "text/html": [
       "<div>\n",
       "<style scoped>\n",
       "    .dataframe tbody tr th:only-of-type {\n",
       "        vertical-align: middle;\n",
       "    }\n",
       "\n",
       "    .dataframe tbody tr th {\n",
       "        vertical-align: top;\n",
       "    }\n",
       "\n",
       "    .dataframe thead th {\n",
       "        text-align: right;\n",
       "    }\n",
       "</style>\n",
       "<table border=\"1\" class=\"dataframe\">\n",
       "  <thead>\n",
       "    <tr style=\"text-align: right;\">\n",
       "      <th></th>\n",
       "      <th>id</th>\n",
       "      <th>ident</th>\n",
       "      <th>type</th>\n",
       "      <th>name</th>\n",
       "      <th>latitude_deg</th>\n",
       "      <th>longitude_deg</th>\n",
       "      <th>elevation_ft</th>\n",
       "      <th>continent</th>\n",
       "      <th>iso_country</th>\n",
       "      <th>iso_region</th>\n",
       "      <th>scheduled_service</th>\n",
       "    </tr>\n",
       "  </thead>\n",
       "  <tbody>\n",
       "    <tr>\n",
       "      <th>0</th>\n",
       "      <td>6523</td>\n",
       "      <td>00A</td>\n",
       "      <td>heliport</td>\n",
       "      <td>Total Rf Heliport</td>\n",
       "      <td>40.070801</td>\n",
       "      <td>-74.933601</td>\n",
       "      <td>11.0</td>\n",
       "      <td>NoA</td>\n",
       "      <td>US</td>\n",
       "      <td>US-PA</td>\n",
       "      <td>no</td>\n",
       "    </tr>\n",
       "    <tr>\n",
       "      <th>1</th>\n",
       "      <td>323361</td>\n",
       "      <td>00AA</td>\n",
       "      <td>small_airport</td>\n",
       "      <td>Aero B Ranch Airport</td>\n",
       "      <td>38.704022</td>\n",
       "      <td>-101.473911</td>\n",
       "      <td>3435.0</td>\n",
       "      <td>NoA</td>\n",
       "      <td>US</td>\n",
       "      <td>US-KS</td>\n",
       "      <td>no</td>\n",
       "    </tr>\n",
       "    <tr>\n",
       "      <th>2</th>\n",
       "      <td>6524</td>\n",
       "      <td>00AK</td>\n",
       "      <td>small_airport</td>\n",
       "      <td>Lowell Field</td>\n",
       "      <td>59.947733</td>\n",
       "      <td>-151.692524</td>\n",
       "      <td>450.0</td>\n",
       "      <td>NoA</td>\n",
       "      <td>US</td>\n",
       "      <td>US-AK</td>\n",
       "      <td>no</td>\n",
       "    </tr>\n",
       "    <tr>\n",
       "      <th>3</th>\n",
       "      <td>6525</td>\n",
       "      <td>00AL</td>\n",
       "      <td>small_airport</td>\n",
       "      <td>Epps Airpark</td>\n",
       "      <td>34.864799</td>\n",
       "      <td>-86.770302</td>\n",
       "      <td>820.0</td>\n",
       "      <td>NoA</td>\n",
       "      <td>US</td>\n",
       "      <td>US-AL</td>\n",
       "      <td>no</td>\n",
       "    </tr>\n",
       "    <tr>\n",
       "      <th>4</th>\n",
       "      <td>6526</td>\n",
       "      <td>00AR</td>\n",
       "      <td>closed</td>\n",
       "      <td>Newport Hospital &amp; Clinic Heliport</td>\n",
       "      <td>35.608700</td>\n",
       "      <td>-91.254898</td>\n",
       "      <td>237.0</td>\n",
       "      <td>NoA</td>\n",
       "      <td>US</td>\n",
       "      <td>US-AR</td>\n",
       "      <td>no</td>\n",
       "    </tr>\n",
       "    <tr>\n",
       "      <th>...</th>\n",
       "      <td>...</td>\n",
       "      <td>...</td>\n",
       "      <td>...</td>\n",
       "      <td>...</td>\n",
       "      <td>...</td>\n",
       "      <td>...</td>\n",
       "      <td>...</td>\n",
       "      <td>...</td>\n",
       "      <td>...</td>\n",
       "      <td>...</td>\n",
       "      <td>...</td>\n",
       "    </tr>\n",
       "    <tr>\n",
       "      <th>67307</th>\n",
       "      <td>46378</td>\n",
       "      <td>ZZ-0001</td>\n",
       "      <td>heliport</td>\n",
       "      <td>Sealand Helipad</td>\n",
       "      <td>51.894444</td>\n",
       "      <td>1.482500</td>\n",
       "      <td>40.0</td>\n",
       "      <td>EU</td>\n",
       "      <td>GB</td>\n",
       "      <td>GB-ENG</td>\n",
       "      <td>no</td>\n",
       "    </tr>\n",
       "    <tr>\n",
       "      <th>67308</th>\n",
       "      <td>307326</td>\n",
       "      <td>ZZ-0002</td>\n",
       "      <td>small_airport</td>\n",
       "      <td>Glorioso Islands Airstrip</td>\n",
       "      <td>-11.584278</td>\n",
       "      <td>47.296389</td>\n",
       "      <td>11.0</td>\n",
       "      <td>AF</td>\n",
       "      <td>TF</td>\n",
       "      <td>TF-U-A</td>\n",
       "      <td>no</td>\n",
       "    </tr>\n",
       "    <tr>\n",
       "      <th>67309</th>\n",
       "      <td>346788</td>\n",
       "      <td>ZZ-0003</td>\n",
       "      <td>small_airport</td>\n",
       "      <td>Fainting Goat Airport</td>\n",
       "      <td>32.110587</td>\n",
       "      <td>-97.356312</td>\n",
       "      <td>690.0</td>\n",
       "      <td>NoA</td>\n",
       "      <td>US</td>\n",
       "      <td>US-TX</td>\n",
       "      <td>no</td>\n",
       "    </tr>\n",
       "    <tr>\n",
       "      <th>67310</th>\n",
       "      <td>342102</td>\n",
       "      <td>ZZZW</td>\n",
       "      <td>closed</td>\n",
       "      <td>Scandium City Heliport</td>\n",
       "      <td>69.355287</td>\n",
       "      <td>-138.939310</td>\n",
       "      <td>4.0</td>\n",
       "      <td>NoA</td>\n",
       "      <td>CA</td>\n",
       "      <td>CA-YT</td>\n",
       "      <td>no</td>\n",
       "    </tr>\n",
       "    <tr>\n",
       "      <th>67311</th>\n",
       "      <td>313629</td>\n",
       "      <td>ZZZZ</td>\n",
       "      <td>small_airport</td>\n",
       "      <td>Satsuma Iōjima Airport</td>\n",
       "      <td>30.784722</td>\n",
       "      <td>130.270556</td>\n",
       "      <td>338.0</td>\n",
       "      <td>AS</td>\n",
       "      <td>JP</td>\n",
       "      <td>JP-46</td>\n",
       "      <td>no</td>\n",
       "    </tr>\n",
       "  </tbody>\n",
       "</table>\n",
       "<p>67312 rows × 11 columns</p>\n",
       "</div>"
      ],
      "text/plain": [
       "           id    ident           type                                name  \\\n",
       "0        6523      00A       heliport                   Total Rf Heliport   \n",
       "1      323361     00AA  small_airport                Aero B Ranch Airport   \n",
       "2        6524     00AK  small_airport                        Lowell Field   \n",
       "3        6525     00AL  small_airport                        Epps Airpark   \n",
       "4        6526     00AR         closed  Newport Hospital & Clinic Heliport   \n",
       "...       ...      ...            ...                                 ...   \n",
       "67307   46378  ZZ-0001       heliport                     Sealand Helipad   \n",
       "67308  307326  ZZ-0002  small_airport           Glorioso Islands Airstrip   \n",
       "67309  346788  ZZ-0003  small_airport               Fainting Goat Airport   \n",
       "67310  342102     ZZZW         closed              Scandium City Heliport   \n",
       "67311  313629     ZZZZ  small_airport              Satsuma Iōjima Airport   \n",
       "\n",
       "       latitude_deg  longitude_deg  elevation_ft continent iso_country  \\\n",
       "0         40.070801     -74.933601          11.0       NoA          US   \n",
       "1         38.704022    -101.473911        3435.0       NoA          US   \n",
       "2         59.947733    -151.692524         450.0       NoA          US   \n",
       "3         34.864799     -86.770302         820.0       NoA          US   \n",
       "4         35.608700     -91.254898         237.0       NoA          US   \n",
       "...             ...            ...           ...       ...         ...   \n",
       "67307     51.894444       1.482500          40.0        EU          GB   \n",
       "67308    -11.584278      47.296389          11.0        AF          TF   \n",
       "67309     32.110587     -97.356312         690.0       NoA          US   \n",
       "67310     69.355287    -138.939310           4.0       NoA          CA   \n",
       "67311     30.784722     130.270556         338.0        AS          JP   \n",
       "\n",
       "      iso_region scheduled_service  \n",
       "0          US-PA                no  \n",
       "1          US-KS                no  \n",
       "2          US-AK                no  \n",
       "3          US-AL                no  \n",
       "4          US-AR                no  \n",
       "...          ...               ...  \n",
       "67307     GB-ENG                no  \n",
       "67308     TF-U-A                no  \n",
       "67309      US-TX                no  \n",
       "67310      CA-YT                no  \n",
       "67311      JP-46                no  \n",
       "\n",
       "[67312 rows x 11 columns]"
      ]
     },
     "execution_count": 3,
     "metadata": {},
     "output_type": "execute_result"
    }
   ],
   "source": [
    "df = pd.read_csv(\"https://raw.githubusercontent.com/mdlstudioar/datosoct/main/IATAinfo%20(2)\")\n",
    "df"
   ]
  },
  {
   "cell_type": "markdown",
   "id": "fee7fa7e",
   "metadata": {},
   "source": [
    "### 3. Vamos a hacer el data cleaning"
   ]
  },
  {
   "cell_type": "code",
   "execution_count": 4,
   "id": "1310aaf9",
   "metadata": {},
   "outputs": [
    {
     "data": {
      "text/plain": [
       "id                       0\n",
       "ident                    1\n",
       "type                     0\n",
       "name                     0\n",
       "latitude_deg             0\n",
       "longitude_deg            0\n",
       "elevation_ft         12977\n",
       "continent                0\n",
       "iso_country            257\n",
       "iso_region               0\n",
       "scheduled_service        0\n",
       "dtype: int64"
      ]
     },
     "execution_count": 4,
     "metadata": {},
     "output_type": "execute_result"
    }
   ],
   "source": [
    "# chequeamos si tenemos valores faltantes y cuáles son\n",
    "\n",
    "df.isnull().sum()"
   ]
  },
  {
   "cell_type": "code",
   "execution_count": 5,
   "id": "e1e67e26",
   "metadata": {},
   "outputs": [
    {
     "data": {
      "text/plain": [
       "id                    0.000000\n",
       "ident                 0.001486\n",
       "type                  0.000000\n",
       "name                  0.000000\n",
       "latitude_deg          0.000000\n",
       "longitude_deg         0.000000\n",
       "elevation_ft         19.278880\n",
       "continent             0.000000\n",
       "iso_country           0.381804\n",
       "iso_region            0.000000\n",
       "scheduled_service     0.000000\n",
       "dtype: float64"
      ]
     },
     "execution_count": 5,
     "metadata": {},
     "output_type": "execute_result"
    }
   ],
   "source": [
    "# chequeamos cuánto representa cada uno de esos valores faltantes\n",
    "df.isnull().sum()/df.shape[0]*100"
   ]
  },
  {
   "cell_type": "markdown",
   "id": "648bc5c9",
   "metadata": {},
   "source": [
    "**¿Qué debo preguntarme al manejar datos faltantes?**\n",
    "\n",
    "- ¿Quiero conservar la información?\n",
    "- ¿Qué tipo de datos tengo en la columna que voy a imputar?\n",
    "- ¿Por qué puede ser que tengo los valores faltantes?:\n",
    "    - Valores faltantes al azar\n",
    "    - Valores faltantes no al azar\n",
    "    \n",
    "    \n",
    "**¿Cómo decido qué hago con los valores faltantes?**\n",
    "\n",
    "- Entender que no hay una manera _perfecta_ de manejar los valores faltantes.\n",
    "\n",
    "- Depende de mis datos\n",
    "\n",
    "- Observar no solo la cantidad de datos faltantes sino también su patrón.\n",
    "\n",
    "- Estrategias:  \n",
    "     - **Eliminar los valores (fila)**:\n",
    "        - Si la recogida de datos no se ha realizado de forma aleatoria introduce sesgo.  \n",
    "        - En el caso de que haya mucho patrones con datos faltantes, podría reducir considerablemente la cantidad de filas disponibles. \n",
    "     - **Eliminación de la variable (columna)**:\n",
    "         - Las variables “descartadas” podrían contener información de vital importancia.      \n",
    "     - **Imputar los valores**:\n",
    "        - Sustituir por media o mediana: solo en variables numéricas  \n",
    "        - Sustituir por valor más frecuente: útil para variables categóricas\n",
    "        - Algoritmo de ML: K-NN (k-nearest neighboors)"
   ]
  },
  {
   "cell_type": "markdown",
   "id": "91970542",
   "metadata": {},
   "source": [
    "Si optamos por eliminar los datos (variable **ident** cuyo número de valores faltantes 1 (uno)), podemos hacerlo usando la siguiente función:\n",
    "    \n",
    "`.dropna(self, axis=0, how='any', thresh=None, subset=None, inplace=False)`\n",
    "\n",
    "- **axis**: {0, 1}, default 0. 0: Filas, 1: Columnas\n",
    "- **how**: {'any', 'all'}, default 'any'. Any: Si hay un valor faltante elimina la columna o fila. All: Si todos los valores de la fila o columna son faltantes, elimina la fila o columna.\n",
    "- **thresh**: (int) requiere de un mínimo de valores no-faltantes.\n",
    "- **subset**: Nombre de filas o columnas donde buscar valores faltantes\n",
    "- **inplace**: True modifica el DataFrame original\n",
    "\n",
    "[documentación](https://pandas.pydata.org/pandas-docs/stable/reference/api/pandas.DataFrame.dropna.html)\n",
    "\n",
    "\n"
   ]
  },
  {
   "cell_type": "code",
   "execution_count": 6,
   "id": "852d7940",
   "metadata": {},
   "outputs": [],
   "source": [
    "df.dropna(subset=[\"ident\"], axis=0, how=\"any\", inplace=True)"
   ]
  },
  {
   "cell_type": "code",
   "execution_count": 7,
   "id": "f1b54494",
   "metadata": {},
   "outputs": [
    {
     "data": {
      "text/plain": [
       "id                       0\n",
       "ident                    0\n",
       "type                     0\n",
       "name                     0\n",
       "latitude_deg             0\n",
       "longitude_deg            0\n",
       "elevation_ft         12977\n",
       "continent                0\n",
       "iso_country            257\n",
       "iso_region               0\n",
       "scheduled_service        0\n",
       "dtype: int64"
      ]
     },
     "execution_count": 7,
     "metadata": {},
     "output_type": "execute_result"
    }
   ],
   "source": [
    "df.isnull().sum()"
   ]
  },
  {
   "cell_type": "code",
   "execution_count": 8,
   "id": "25b8667d",
   "metadata": {},
   "outputs": [
    {
     "data": {
      "text/plain": [
       "0"
      ]
     },
     "execution_count": 8,
     "metadata": {},
     "output_type": "execute_result"
    }
   ],
   "source": [
    "df[\"ident\"].isnull().sum()"
   ]
  },
  {
   "cell_type": "markdown",
   "id": "113ff915",
   "metadata": {},
   "source": [
    "Si optamos por imputar los valores (variable **elevation_ft** cuyo % de valores faltantes es casi el 20), deberemos chequear primero el tipo de dato y su forma:\n"
   ]
  },
  {
   "cell_type": "code",
   "execution_count": 9,
   "id": "b99c520d",
   "metadata": {},
   "outputs": [
    {
     "data": {
      "text/plain": [
       "dtype('float64')"
      ]
     },
     "execution_count": 9,
     "metadata": {},
     "output_type": "execute_result"
    }
   ],
   "source": [
    "df[\"elevation_ft\"].dtype"
   ]
  },
  {
   "cell_type": "code",
   "execution_count": 10,
   "id": "dbc3b568",
   "metadata": {},
   "outputs": [
    {
     "data": {
      "text/plain": [
       "1268.643335664593"
      ]
     },
     "execution_count": 10,
     "metadata": {},
     "output_type": "execute_result"
    }
   ],
   "source": [
    "df[\"elevation_ft\"].mean()"
   ]
  },
  {
   "cell_type": "code",
   "execution_count": 11,
   "id": "fb340543",
   "metadata": {},
   "outputs": [
    {
     "data": {
      "text/plain": [
       "0          11.0\n",
       "1        3435.0\n",
       "2         450.0\n",
       "3         820.0\n",
       "4         237.0\n",
       "          ...  \n",
       "67307      40.0\n",
       "67308      11.0\n",
       "67309     690.0\n",
       "67310       4.0\n",
       "67311     338.0\n",
       "Name: elevation_ft, Length: 67311, dtype: float64"
      ]
     },
     "execution_count": 11,
     "metadata": {},
     "output_type": "execute_result"
    }
   ],
   "source": [
    "# con el método fillna\n",
    "\n",
    "df[\"elevation_ft\"].fillna(df[\"elevation_ft\"].mean().__round__(0))"
   ]
  },
  {
   "cell_type": "markdown",
   "id": "3e4828b6",
   "metadata": {},
   "source": [
    "Hay una clase dentro de la librería *sklearn* que permite hacer algo igual:\n",
    "\n",
    "`sklearn.impute.SimpleImputer(missing_values=nan, strategy=’mean’, fill_value=None, copy=True, add_indicator=False)`\n",
    "    \n",
    "- **missing_values**: Indica cómo son representados los valores faltantes (np.nan es el estándard)\n",
    "- **strategy**: `mean`, `median`, `most_frequent`, `constant`.\n",
    "- **fill_value**: Si uso `constant`, puedo usar `fill_value` para indicar por cuál valor debe ser reemplazado\n",
    "- **copy**: Si pongo True, crea una copia de X\n",
    "- **add_indicator**: Agrega un indicador para los valores faltantes.\n",
    "\n",
    "\n",
    "[documentación](https://scikit-learn.org/stable/modules/generated/sklearn.impute.SimpleImputer.html#sklearn.impute.SimpleImputer)"
   ]
  },
  {
   "cell_type": "code",
   "execution_count": 12,
   "id": "3b3c678c",
   "metadata": {},
   "outputs": [],
   "source": [
    "from sklearn.impute import SimpleImputer"
   ]
  },
  {
   "cell_type": "code",
   "execution_count": 13,
   "id": "e2a2700a",
   "metadata": {},
   "outputs": [],
   "source": [
    "imputer = SimpleImputer(missing_values=np.nan, strategy=\"mean\")\n",
    "imp_elevation_ft = imputer.fit_transform(df[['elevation_ft']])\n",
    "df[\"elevation_ft\"] = imp_elevation_ft"
   ]
  },
  {
   "cell_type": "code",
   "execution_count": 14,
   "id": "242b5b5b",
   "metadata": {},
   "outputs": [
    {
     "data": {
      "text/plain": [
       "id                     0\n",
       "ident                  0\n",
       "type                   0\n",
       "name                   0\n",
       "latitude_deg           0\n",
       "longitude_deg          0\n",
       "elevation_ft           0\n",
       "continent              0\n",
       "iso_country          257\n",
       "iso_region             0\n",
       "scheduled_service      0\n",
       "dtype: int64"
      ]
     },
     "execution_count": 14,
     "metadata": {},
     "output_type": "execute_result"
    }
   ],
   "source": [
    "df.isnull().sum()"
   ]
  },
  {
   "cell_type": "code",
   "execution_count": 15,
   "id": "2acca6de",
   "metadata": {},
   "outputs": [
    {
     "data": {
      "text/plain": [
       "0"
      ]
     },
     "execution_count": 15,
     "metadata": {},
     "output_type": "execute_result"
    }
   ],
   "source": [
    "df[\"elevation_ft\"].isnull().sum()"
   ]
  },
  {
   "cell_type": "markdown",
   "id": "c890c118",
   "metadata": {},
   "source": [
    "Nos queda **iso_country**"
   ]
  },
  {
   "cell_type": "code",
   "execution_count": 16,
   "id": "6a619e6a",
   "metadata": {},
   "outputs": [
    {
     "data": {
      "text/plain": [
       "0        US\n",
       "1        US\n",
       "2        US\n",
       "3        US\n",
       "4        US\n",
       "         ..\n",
       "67307    GB\n",
       "67308    TF\n",
       "67309    US\n",
       "67310    CA\n",
       "67311    JP\n",
       "Name: iso_country, Length: 67311, dtype: object"
      ]
     },
     "execution_count": 16,
     "metadata": {},
     "output_type": "execute_result"
    }
   ],
   "source": [
    "df[\"iso_country\"]"
   ]
  },
  {
   "cell_type": "code",
   "execution_count": 17,
   "id": "9e7dffa6",
   "metadata": {},
   "outputs": [
    {
     "data": {
      "text/plain": [
       "dtype('O')"
      ]
     },
     "execution_count": 17,
     "metadata": {},
     "output_type": "execute_result"
    }
   ],
   "source": [
    "df[\"iso_country\"].dtype"
   ]
  },
  {
   "cell_type": "code",
   "execution_count": 18,
   "id": "7ca0daa2",
   "metadata": {},
   "outputs": [
    {
     "data": {
      "text/plain": [
       "US    27261\n",
       "BR     5970\n",
       "CA     2854\n",
       "JP     2580\n",
       "AU     2054\n",
       "      ...  \n",
       "GM        1\n",
       "NU        1\n",
       "JE        1\n",
       "BL        1\n",
       "NF        1\n",
       "Name: iso_country, Length: 243, dtype: int64"
      ]
     },
     "execution_count": 18,
     "metadata": {},
     "output_type": "execute_result"
    }
   ],
   "source": [
    "df[\"iso_country\"].value_counts()"
   ]
  },
  {
   "cell_type": "code",
   "execution_count": 19,
   "id": "c3199831",
   "metadata": {},
   "outputs": [
    {
     "name": "stdout",
     "output_type": "stream",
     "text": [
      "NoA\n",
      "id                   0\n",
      "ident                0\n",
      "type                 0\n",
      "name                 0\n",
      "latitude_deg         0\n",
      "longitude_deg        0\n",
      "elevation_ft         0\n",
      "continent            0\n",
      "iso_country          0\n",
      "iso_region           0\n",
      "scheduled_service    0\n",
      "dtype: int64\n",
      "\n",
      "OC\n",
      "id                   0\n",
      "ident                0\n",
      "type                 0\n",
      "name                 0\n",
      "latitude_deg         0\n",
      "longitude_deg        0\n",
      "elevation_ft         0\n",
      "continent            0\n",
      "iso_country          0\n",
      "iso_region           0\n",
      "scheduled_service    0\n",
      "dtype: int64\n",
      "\n",
      "AF\n",
      "id                     0\n",
      "ident                  0\n",
      "type                   0\n",
      "name                   0\n",
      "latitude_deg           0\n",
      "longitude_deg          0\n",
      "elevation_ft           0\n",
      "continent              0\n",
      "iso_country          257\n",
      "iso_region             0\n",
      "scheduled_service      0\n",
      "dtype: int64\n",
      "\n",
      "AN\n",
      "id                   0\n",
      "ident                0\n",
      "type                 0\n",
      "name                 0\n",
      "latitude_deg         0\n",
      "longitude_deg        0\n",
      "elevation_ft         0\n",
      "continent            0\n",
      "iso_country          0\n",
      "iso_region           0\n",
      "scheduled_service    0\n",
      "dtype: int64\n",
      "\n",
      "EU\n",
      "id                   0\n",
      "ident                0\n",
      "type                 0\n",
      "name                 0\n",
      "latitude_deg         0\n",
      "longitude_deg        0\n",
      "elevation_ft         0\n",
      "continent            0\n",
      "iso_country          0\n",
      "iso_region           0\n",
      "scheduled_service    0\n",
      "dtype: int64\n",
      "\n",
      "AS\n",
      "id                   0\n",
      "ident                0\n",
      "type                 0\n",
      "name                 0\n",
      "latitude_deg         0\n",
      "longitude_deg        0\n",
      "elevation_ft         0\n",
      "continent            0\n",
      "iso_country          0\n",
      "iso_region           0\n",
      "scheduled_service    0\n",
      "dtype: int64\n",
      "\n",
      "SA\n",
      "id                   0\n",
      "ident                0\n",
      "type                 0\n",
      "name                 0\n",
      "latitude_deg         0\n",
      "longitude_deg        0\n",
      "elevation_ft         0\n",
      "continent            0\n",
      "iso_country          0\n",
      "iso_region           0\n",
      "scheduled_service    0\n",
      "dtype: int64\n",
      "\n"
     ]
    }
   ],
   "source": [
    "for i in df[\"continent\"].unique():\n",
    "    print(i)\n",
    "    print(df[df[\"continent\"] == i].isnull().sum())\n",
    "    print()"
   ]
  },
  {
   "cell_type": "code",
   "execution_count": 20,
   "id": "d6bd3d7f",
   "metadata": {},
   "outputs": [
    {
     "data": {
      "text/plain": [
       "ZA    580\n",
       "KE    376\n",
       "CD    292\n",
       "TZ    209\n",
       "ZW    144\n",
       "BW    132\n",
       "AO    111\n",
       "ZM    103\n",
       "MZ     96\n",
       "MG     84\n",
       "EG     76\n",
       "DZ     71\n",
       "LY     66\n",
       "SS     65\n",
       "NG     63\n",
       "ET     61\n",
       "CG     56\n",
       "BF     51\n",
       "CF     47\n",
       "GA     39\n",
       "CM     39\n",
       "SD     38\n",
       "SO     38\n",
       "UG     37\n",
       "TD     37\n",
       "MA     35\n",
       "LS     33\n",
       "ML     32\n",
       "CI     30\n",
       "MW     29\n",
       "MR     27\n",
       "NE     23\n",
       "SC     21\n",
       "EH     20\n",
       "SN     20\n",
       "LR     18\n",
       "GH     17\n",
       "SZ     16\n",
       "GN     16\n",
       "TN     16\n",
       "SL     12\n",
       "DJ     11\n",
       "BJ     10\n",
       "CV     10\n",
       "ER      9\n",
       "RW      9\n",
       "GW      7\n",
       "GQ      7\n",
       "BI      7\n",
       "TG      7\n",
       "ST      4\n",
       "KM      4\n",
       "MU      4\n",
       "SH      4\n",
       "TF      3\n",
       "RE      2\n",
       "YT      1\n",
       "GM      1\n",
       "Name: iso_country, dtype: int64"
      ]
     },
     "execution_count": 20,
     "metadata": {},
     "output_type": "execute_result"
    }
   ],
   "source": [
    "df[df[\"continent\"] == \"AF\"][\"iso_country\"].value_counts()"
   ]
  },
  {
   "cell_type": "code",
   "execution_count": 21,
   "id": "a976fede",
   "metadata": {},
   "outputs": [],
   "source": [
    "imputer = SimpleImputer(missing_values=np.nan, strategy=\"constant\", fill_value=\"ZA\")\n",
    "imp_iso_country = imputer.fit_transform(df[['iso_country']])\n",
    "df[\"iso_country\"] = imp_iso_country"
   ]
  },
  {
   "cell_type": "code",
   "execution_count": 22,
   "id": "703374e1",
   "metadata": {},
   "outputs": [
    {
     "data": {
      "text/plain": [
       "0"
      ]
     },
     "execution_count": 22,
     "metadata": {},
     "output_type": "execute_result"
    }
   ],
   "source": [
    "df[\"iso_country\"].isnull().sum()"
   ]
  },
  {
   "cell_type": "code",
   "execution_count": 23,
   "id": "0b9b3f82",
   "metadata": {},
   "outputs": [
    {
     "data": {
      "text/plain": [
       "ZA    837\n",
       "KE    376\n",
       "CD    292\n",
       "TZ    209\n",
       "ZW    144\n",
       "BW    132\n",
       "AO    111\n",
       "ZM    103\n",
       "MZ     96\n",
       "MG     84\n",
       "EG     76\n",
       "DZ     71\n",
       "LY     66\n",
       "SS     65\n",
       "NG     63\n",
       "ET     61\n",
       "CG     56\n",
       "BF     51\n",
       "CF     47\n",
       "GA     39\n",
       "CM     39\n",
       "SD     38\n",
       "SO     38\n",
       "UG     37\n",
       "TD     37\n",
       "MA     35\n",
       "LS     33\n",
       "ML     32\n",
       "CI     30\n",
       "MW     29\n",
       "MR     27\n",
       "NE     23\n",
       "SC     21\n",
       "EH     20\n",
       "SN     20\n",
       "LR     18\n",
       "GH     17\n",
       "SZ     16\n",
       "GN     16\n",
       "TN     16\n",
       "SL     12\n",
       "DJ     11\n",
       "BJ     10\n",
       "CV     10\n",
       "ER      9\n",
       "RW      9\n",
       "GW      7\n",
       "GQ      7\n",
       "BI      7\n",
       "TG      7\n",
       "ST      4\n",
       "KM      4\n",
       "MU      4\n",
       "SH      4\n",
       "TF      3\n",
       "RE      2\n",
       "YT      1\n",
       "GM      1\n",
       "Name: iso_country, dtype: int64"
      ]
     },
     "execution_count": 23,
     "metadata": {},
     "output_type": "execute_result"
    }
   ],
   "source": [
    "df[df[\"continent\"] == \"AF\"][\"iso_country\"].value_counts()"
   ]
  },
  {
   "cell_type": "code",
   "execution_count": 24,
   "id": "7fd266a9",
   "metadata": {},
   "outputs": [
    {
     "data": {
      "text/plain": [
       "id                   0\n",
       "ident                0\n",
       "type                 0\n",
       "name                 0\n",
       "latitude_deg         0\n",
       "longitude_deg        0\n",
       "elevation_ft         0\n",
       "continent            0\n",
       "iso_country          0\n",
       "iso_region           0\n",
       "scheduled_service    0\n",
       "dtype: int64"
      ]
     },
     "execution_count": 24,
     "metadata": {},
     "output_type": "execute_result"
    }
   ],
   "source": [
    "df.isnull().sum()"
   ]
  },
  {
   "cell_type": "markdown",
   "id": "fa7ffa1f",
   "metadata": {},
   "source": [
    "### 4. ¿Qué preguntas nos hacemos?"
   ]
  },
  {
   "cell_type": "markdown",
   "id": "02d1f236",
   "metadata": {},
   "source": [
    "#### 4.1 ¿Cuántos aeropuertos hay por continente?"
   ]
  },
  {
   "cell_type": "code",
   "execution_count": 25,
   "id": "f6f50c85",
   "metadata": {},
   "outputs": [
    {
     "data": {
      "image/png": "[encoded data removed]",
      "text/plain": [
       "<Figure size 432x288 with 1 Axes>"
      ]
     },
     "metadata": {
      "needs_background": "light"
     },
     "output_type": "display_data"
    }
   ],
   "source": [
    "sns.countplot(x='continent',data=df).set_title('Number of airports per continent')\n",
    "sns.despine()"
   ]
  },
  {
   "cell_type": "markdown",
   "id": "c9641af2",
   "metadata": {},
   "source": [
    "#### 4.2 ¿Cuántos aeropuertos hay por Estado en USA?"
   ]
  },
  {
   "cell_type": "code",
   "execution_count": 26,
   "id": "20bd439d",
   "metadata": {},
   "outputs": [
    {
     "data": {
      "text/html": [
       "<div>\n",
       "<style scoped>\n",
       "    .dataframe tbody tr th:only-of-type {\n",
       "        vertical-align: middle;\n",
       "    }\n",
       "\n",
       "    .dataframe tbody tr th {\n",
       "        vertical-align: top;\n",
       "    }\n",
       "\n",
       "    .dataframe thead th {\n",
       "        text-align: right;\n",
       "    }\n",
       "</style>\n",
       "<table border=\"1\" class=\"dataframe\">\n",
       "  <thead>\n",
       "    <tr style=\"text-align: right;\">\n",
       "      <th></th>\n",
       "      <th>id</th>\n",
       "      <th>ident</th>\n",
       "      <th>type</th>\n",
       "      <th>name</th>\n",
       "      <th>latitude_deg</th>\n",
       "      <th>longitude_deg</th>\n",
       "      <th>elevation_ft</th>\n",
       "      <th>continent</th>\n",
       "      <th>iso_country</th>\n",
       "      <th>iso_region</th>\n",
       "      <th>scheduled_service</th>\n",
       "    </tr>\n",
       "  </thead>\n",
       "  <tbody>\n",
       "    <tr>\n",
       "      <th>0</th>\n",
       "      <td>6523</td>\n",
       "      <td>00A</td>\n",
       "      <td>heliport</td>\n",
       "      <td>Total Rf Heliport</td>\n",
       "      <td>40.070801</td>\n",
       "      <td>-74.933601</td>\n",
       "      <td>11.0</td>\n",
       "      <td>NoA</td>\n",
       "      <td>US</td>\n",
       "      <td>US-PA</td>\n",
       "      <td>no</td>\n",
       "    </tr>\n",
       "    <tr>\n",
       "      <th>1</th>\n",
       "      <td>323361</td>\n",
       "      <td>00AA</td>\n",
       "      <td>small_airport</td>\n",
       "      <td>Aero B Ranch Airport</td>\n",
       "      <td>38.704022</td>\n",
       "      <td>-101.473911</td>\n",
       "      <td>3435.0</td>\n",
       "      <td>NoA</td>\n",
       "      <td>US</td>\n",
       "      <td>US-KS</td>\n",
       "      <td>no</td>\n",
       "    </tr>\n",
       "    <tr>\n",
       "      <th>2</th>\n",
       "      <td>6524</td>\n",
       "      <td>00AK</td>\n",
       "      <td>small_airport</td>\n",
       "      <td>Lowell Field</td>\n",
       "      <td>59.947733</td>\n",
       "      <td>-151.692524</td>\n",
       "      <td>450.0</td>\n",
       "      <td>NoA</td>\n",
       "      <td>US</td>\n",
       "      <td>US-AK</td>\n",
       "      <td>no</td>\n",
       "    </tr>\n",
       "    <tr>\n",
       "      <th>3</th>\n",
       "      <td>6525</td>\n",
       "      <td>00AL</td>\n",
       "      <td>small_airport</td>\n",
       "      <td>Epps Airpark</td>\n",
       "      <td>34.864799</td>\n",
       "      <td>-86.770302</td>\n",
       "      <td>820.0</td>\n",
       "      <td>NoA</td>\n",
       "      <td>US</td>\n",
       "      <td>US-AL</td>\n",
       "      <td>no</td>\n",
       "    </tr>\n",
       "    <tr>\n",
       "      <th>4</th>\n",
       "      <td>6526</td>\n",
       "      <td>00AR</td>\n",
       "      <td>closed</td>\n",
       "      <td>Newport Hospital &amp; Clinic Heliport</td>\n",
       "      <td>35.608700</td>\n",
       "      <td>-91.254898</td>\n",
       "      <td>237.0</td>\n",
       "      <td>NoA</td>\n",
       "      <td>US</td>\n",
       "      <td>US-AR</td>\n",
       "      <td>no</td>\n",
       "    </tr>\n",
       "  </tbody>\n",
       "</table>\n",
       "</div>"
      ],
      "text/plain": [
       "       id ident           type                                name  \\\n",
       "0    6523   00A       heliport                   Total Rf Heliport   \n",
       "1  323361  00AA  small_airport                Aero B Ranch Airport   \n",
       "2    6524  00AK  small_airport                        Lowell Field   \n",
       "3    6525  00AL  small_airport                        Epps Airpark   \n",
       "4    6526  00AR         closed  Newport Hospital & Clinic Heliport   \n",
       "\n",
       "   latitude_deg  longitude_deg  elevation_ft continent iso_country iso_region  \\\n",
       "0     40.070801     -74.933601          11.0       NoA          US      US-PA   \n",
       "1     38.704022    -101.473911        3435.0       NoA          US      US-KS   \n",
       "2     59.947733    -151.692524         450.0       NoA          US      US-AK   \n",
       "3     34.864799     -86.770302         820.0       NoA          US      US-AL   \n",
       "4     35.608700     -91.254898         237.0       NoA          US      US-AR   \n",
       "\n",
       "  scheduled_service  \n",
       "0                no  \n",
       "1                no  \n",
       "2                no  \n",
       "3                no  \n",
       "4                no  "
      ]
     },
     "execution_count": 26,
     "metadata": {},
     "output_type": "execute_result"
    }
   ],
   "source": [
    "US_airports=df[df['iso_country']=='US']\n",
    "US_airports.head()"
   ]
  },
  {
   "cell_type": "code",
   "execution_count": 27,
   "id": "314fd7b1",
   "metadata": {
    "scrolled": true
   },
   "outputs": [
    {
     "name": "stderr",
     "output_type": "stream",
     "text": [
      "/var/folders/z5/gdq6qhyj7xj_gxgtfl5n5cz80000gn/T/ipykernel_11872/2257381703.py:1: SettingWithCopyWarning: \n",
      "A value is trying to be set on a copy of a slice from a DataFrame.\n",
      "Try using .loc[row_indexer,col_indexer] = value instead\n",
      "\n",
      "See the caveats in the documentation: https://pandas.pydata.org/pandas-docs/stable/user_guide/indexing.html#returning-a-view-versus-a-copy\n",
      "  US_airports.loc[:,\"iso_region\"]=US_airports.loc[:,\"iso_region\"].replace({'US-':''})\n"
     ]
    },
    {
     "data": {
      "image/png": "[encoded data removed]",
      "text/plain": [
       "<Figure size 2160x576 with 1 Axes>"
      ]
     },
     "metadata": {},
     "output_type": "display_data"
    }
   ],
   "source": [
    "US_airports.loc[:,\"iso_region\"]=US_airports.loc[:,\"iso_region\"].replace({'US-':''})\n",
    "## set figure size\n",
    "sns.set(rc={'figure.figsize':(30,8)})\n",
    "## seaborn title \n",
    "sns.countplot(x='iso_region',data=US_airports).set_title('Number of airports per region in the USA')\n",
    "sns.despine()"
   ]
  },
  {
   "cell_type": "markdown",
   "id": "c0f0387e",
   "metadata": {},
   "source": [
    "#### 4.3 Informar cuántos aeropuertos hay de cada tipo en cada uno de los continentes en una tabla."
   ]
  },
  {
   "cell_type": "code",
   "execution_count": 28,
   "id": "a88a6fc2",
   "metadata": {},
   "outputs": [
    {
     "data": {
      "text/plain": [
       "small_airport     37079\n",
       "heliport          16312\n",
       "closed             7632\n",
       "medium_airport     4554\n",
       "seaplane_base      1076\n",
       "large_airport       621\n",
       "balloonport          37\n",
       "Name: type, dtype: int64"
      ]
     },
     "execution_count": 28,
     "metadata": {},
     "output_type": "execute_result"
    }
   ],
   "source": [
    "df[\"type\"].value_counts()"
   ]
  },
  {
   "cell_type": "code",
   "execution_count": 29,
   "id": "3557e549",
   "metadata": {},
   "outputs": [],
   "source": [
    "dummy_types = pd.get_dummies(df[\"type\"])"
   ]
  },
  {
   "cell_type": "code",
   "execution_count": 30,
   "id": "8b73f782",
   "metadata": {},
   "outputs": [],
   "source": [
    "df_2 = pd.concat([df, dummy_types], axis=1)"
   ]
  },
  {
   "cell_type": "code",
   "execution_count": 31,
   "id": "fd9d89e4",
   "metadata": {},
   "outputs": [],
   "source": [
    "df_2.drop([\"type\"], axis=1, inplace=True)"
   ]
  },
  {
   "cell_type": "code",
   "execution_count": 32,
   "id": "3ba46aa8",
   "metadata": {},
   "outputs": [
    {
     "data": {
      "text/html": [
       "<div>\n",
       "<style scoped>\n",
       "    .dataframe tbody tr th:only-of-type {\n",
       "        vertical-align: middle;\n",
       "    }\n",
       "\n",
       "    .dataframe tbody tr th {\n",
       "        vertical-align: top;\n",
       "    }\n",
       "\n",
       "    .dataframe thead th {\n",
       "        text-align: right;\n",
       "    }\n",
       "</style>\n",
       "<table border=\"1\" class=\"dataframe\">\n",
       "  <thead>\n",
       "    <tr style=\"text-align: right;\">\n",
       "      <th></th>\n",
       "      <th>id</th>\n",
       "      <th>ident</th>\n",
       "      <th>name</th>\n",
       "      <th>latitude_deg</th>\n",
       "      <th>longitude_deg</th>\n",
       "      <th>elevation_ft</th>\n",
       "      <th>continent</th>\n",
       "      <th>iso_country</th>\n",
       "      <th>iso_region</th>\n",
       "      <th>scheduled_service</th>\n",
       "      <th>balloonport</th>\n",
       "      <th>closed</th>\n",
       "      <th>heliport</th>\n",
       "      <th>large_airport</th>\n",
       "      <th>medium_airport</th>\n",
       "      <th>seaplane_base</th>\n",
       "      <th>small_airport</th>\n",
       "    </tr>\n",
       "  </thead>\n",
       "  <tbody>\n",
       "    <tr>\n",
       "      <th>0</th>\n",
       "      <td>6523</td>\n",
       "      <td>00A</td>\n",
       "      <td>Total Rf Heliport</td>\n",
       "      <td>40.070801</td>\n",
       "      <td>-74.933601</td>\n",
       "      <td>11.0</td>\n",
       "      <td>NoA</td>\n",
       "      <td>US</td>\n",
       "      <td>US-PA</td>\n",
       "      <td>no</td>\n",
       "      <td>0</td>\n",
       "      <td>0</td>\n",
       "      <td>1</td>\n",
       "      <td>0</td>\n",
       "      <td>0</td>\n",
       "      <td>0</td>\n",
       "      <td>0</td>\n",
       "    </tr>\n",
       "    <tr>\n",
       "      <th>1</th>\n",
       "      <td>323361</td>\n",
       "      <td>00AA</td>\n",
       "      <td>Aero B Ranch Airport</td>\n",
       "      <td>38.704022</td>\n",
       "      <td>-101.473911</td>\n",
       "      <td>3435.0</td>\n",
       "      <td>NoA</td>\n",
       "      <td>US</td>\n",
       "      <td>US-KS</td>\n",
       "      <td>no</td>\n",
       "      <td>0</td>\n",
       "      <td>0</td>\n",
       "      <td>0</td>\n",
       "      <td>0</td>\n",
       "      <td>0</td>\n",
       "      <td>0</td>\n",
       "      <td>1</td>\n",
       "    </tr>\n",
       "    <tr>\n",
       "      <th>2</th>\n",
       "      <td>6524</td>\n",
       "      <td>00AK</td>\n",
       "      <td>Lowell Field</td>\n",
       "      <td>59.947733</td>\n",
       "      <td>-151.692524</td>\n",
       "      <td>450.0</td>\n",
       "      <td>NoA</td>\n",
       "      <td>US</td>\n",
       "      <td>US-AK</td>\n",
       "      <td>no</td>\n",
       "      <td>0</td>\n",
       "      <td>0</td>\n",
       "      <td>0</td>\n",
       "      <td>0</td>\n",
       "      <td>0</td>\n",
       "      <td>0</td>\n",
       "      <td>1</td>\n",
       "    </tr>\n",
       "    <tr>\n",
       "      <th>3</th>\n",
       "      <td>6525</td>\n",
       "      <td>00AL</td>\n",
       "      <td>Epps Airpark</td>\n",
       "      <td>34.864799</td>\n",
       "      <td>-86.770302</td>\n",
       "      <td>820.0</td>\n",
       "      <td>NoA</td>\n",
       "      <td>US</td>\n",
       "      <td>US-AL</td>\n",
       "      <td>no</td>\n",
       "      <td>0</td>\n",
       "      <td>0</td>\n",
       "      <td>0</td>\n",
       "      <td>0</td>\n",
       "      <td>0</td>\n",
       "      <td>0</td>\n",
       "      <td>1</td>\n",
       "    </tr>\n",
       "    <tr>\n",
       "      <th>4</th>\n",
       "      <td>6526</td>\n",
       "      <td>00AR</td>\n",
       "      <td>Newport Hospital &amp; Clinic Heliport</td>\n",
       "      <td>35.608700</td>\n",
       "      <td>-91.254898</td>\n",
       "      <td>237.0</td>\n",
       "      <td>NoA</td>\n",
       "      <td>US</td>\n",
       "      <td>US-AR</td>\n",
       "      <td>no</td>\n",
       "      <td>0</td>\n",
       "      <td>1</td>\n",
       "      <td>0</td>\n",
       "      <td>0</td>\n",
       "      <td>0</td>\n",
       "      <td>0</td>\n",
       "      <td>0</td>\n",
       "    </tr>\n",
       "    <tr>\n",
       "      <th>...</th>\n",
       "      <td>...</td>\n",
       "      <td>...</td>\n",
       "      <td>...</td>\n",
       "      <td>...</td>\n",
       "      <td>...</td>\n",
       "      <td>...</td>\n",
       "      <td>...</td>\n",
       "      <td>...</td>\n",
       "      <td>...</td>\n",
       "      <td>...</td>\n",
       "      <td>...</td>\n",
       "      <td>...</td>\n",
       "      <td>...</td>\n",
       "      <td>...</td>\n",
       "      <td>...</td>\n",
       "      <td>...</td>\n",
       "      <td>...</td>\n",
       "    </tr>\n",
       "    <tr>\n",
       "      <th>67307</th>\n",
       "      <td>46378</td>\n",
       "      <td>ZZ-0001</td>\n",
       "      <td>Sealand Helipad</td>\n",
       "      <td>51.894444</td>\n",
       "      <td>1.482500</td>\n",
       "      <td>40.0</td>\n",
       "      <td>EU</td>\n",
       "      <td>GB</td>\n",
       "      <td>GB-ENG</td>\n",
       "      <td>no</td>\n",
       "      <td>0</td>\n",
       "      <td>0</td>\n",
       "      <td>1</td>\n",
       "      <td>0</td>\n",
       "      <td>0</td>\n",
       "      <td>0</td>\n",
       "      <td>0</td>\n",
       "    </tr>\n",
       "    <tr>\n",
       "      <th>67308</th>\n",
       "      <td>307326</td>\n",
       "      <td>ZZ-0002</td>\n",
       "      <td>Glorioso Islands Airstrip</td>\n",
       "      <td>-11.584278</td>\n",
       "      <td>47.296389</td>\n",
       "      <td>11.0</td>\n",
       "      <td>AF</td>\n",
       "      <td>TF</td>\n",
       "      <td>TF-U-A</td>\n",
       "      <td>no</td>\n",
       "      <td>0</td>\n",
       "      <td>0</td>\n",
       "      <td>0</td>\n",
       "      <td>0</td>\n",
       "      <td>0</td>\n",
       "      <td>0</td>\n",
       "      <td>1</td>\n",
       "    </tr>\n",
       "    <tr>\n",
       "      <th>67309</th>\n",
       "      <td>346788</td>\n",
       "      <td>ZZ-0003</td>\n",
       "      <td>Fainting Goat Airport</td>\n",
       "      <td>32.110587</td>\n",
       "      <td>-97.356312</td>\n",
       "      <td>690.0</td>\n",
       "      <td>NoA</td>\n",
       "      <td>US</td>\n",
       "      <td>US-TX</td>\n",
       "      <td>no</td>\n",
       "      <td>0</td>\n",
       "      <td>0</td>\n",
       "      <td>0</td>\n",
       "      <td>0</td>\n",
       "      <td>0</td>\n",
       "      <td>0</td>\n",
       "      <td>1</td>\n",
       "    </tr>\n",
       "    <tr>\n",
       "      <th>67310</th>\n",
       "      <td>342102</td>\n",
       "      <td>ZZZW</td>\n",
       "      <td>Scandium City Heliport</td>\n",
       "      <td>69.355287</td>\n",
       "      <td>-138.939310</td>\n",
       "      <td>4.0</td>\n",
       "      <td>NoA</td>\n",
       "      <td>CA</td>\n",
       "      <td>CA-YT</td>\n",
       "      <td>no</td>\n",
       "      <td>0</td>\n",
       "      <td>1</td>\n",
       "      <td>0</td>\n",
       "      <td>0</td>\n",
       "      <td>0</td>\n",
       "      <td>0</td>\n",
       "      <td>0</td>\n",
       "    </tr>\n",
       "    <tr>\n",
       "      <th>67311</th>\n",
       "      <td>313629</td>\n",
       "      <td>ZZZZ</td>\n",
       "      <td>Satsuma Iōjima Airport</td>\n",
       "      <td>30.784722</td>\n",
       "      <td>130.270556</td>\n",
       "      <td>338.0</td>\n",
       "      <td>AS</td>\n",
       "      <td>JP</td>\n",
       "      <td>JP-46</td>\n",
       "      <td>no</td>\n",
       "      <td>0</td>\n",
       "      <td>0</td>\n",
       "      <td>0</td>\n",
       "      <td>0</td>\n",
       "      <td>0</td>\n",
       "      <td>0</td>\n",
       "      <td>1</td>\n",
       "    </tr>\n",
       "  </tbody>\n",
       "</table>\n",
       "<p>67311 rows × 17 columns</p>\n",
       "</div>"
      ],
      "text/plain": [
       "           id    ident                                name  latitude_deg  \\\n",
       "0        6523      00A                   Total Rf Heliport     40.070801   \n",
       "1      323361     00AA                Aero B Ranch Airport     38.704022   \n",
       "2        6524     00AK                        Lowell Field     59.947733   \n",
       "3        6525     00AL                        Epps Airpark     34.864799   \n",
       "4        6526     00AR  Newport Hospital & Clinic Heliport     35.608700   \n",
       "...       ...      ...                                 ...           ...   \n",
       "67307   46378  ZZ-0001                     Sealand Helipad     51.894444   \n",
       "67308  307326  ZZ-0002           Glorioso Islands Airstrip    -11.584278   \n",
       "67309  346788  ZZ-0003               Fainting Goat Airport     32.110587   \n",
       "67310  342102     ZZZW              Scandium City Heliport     69.355287   \n",
       "67311  313629     ZZZZ              Satsuma Iōjima Airport     30.784722   \n",
       "\n",
       "       longitude_deg  elevation_ft continent iso_country iso_region  \\\n",
       "0         -74.933601          11.0       NoA          US      US-PA   \n",
       "1        -101.473911        3435.0       NoA          US      US-KS   \n",
       "2        -151.692524         450.0       NoA          US      US-AK   \n",
       "3         -86.770302         820.0       NoA          US      US-AL   \n",
       "4         -91.254898         237.0       NoA          US      US-AR   \n",
       "...              ...           ...       ...         ...        ...   \n",
       "67307       1.482500          40.0        EU          GB     GB-ENG   \n",
       "67308      47.296389          11.0        AF          TF     TF-U-A   \n",
       "67309     -97.356312         690.0       NoA          US      US-TX   \n",
       "67310    -138.939310           4.0       NoA          CA      CA-YT   \n",
       "67311     130.270556         338.0        AS          JP      JP-46   \n",
       "\n",
       "      scheduled_service  balloonport  closed  heliport  large_airport  \\\n",
       "0                    no            0       0         1              0   \n",
       "1                    no            0       0         0              0   \n",
       "2                    no            0       0         0              0   \n",
       "3                    no            0       0         0              0   \n",
       "4                    no            0       1         0              0   \n",
       "...                 ...          ...     ...       ...            ...   \n",
       "67307                no            0       0         1              0   \n",
       "67308                no            0       0         0              0   \n",
       "67309                no            0       0         0              0   \n",
       "67310                no            0       1         0              0   \n",
       "67311                no            0       0         0              0   \n",
       "\n",
       "       medium_airport  seaplane_base  small_airport  \n",
       "0                   0              0              0  \n",
       "1                   0              0              1  \n",
       "2                   0              0              1  \n",
       "3                   0              0              1  \n",
       "4                   0              0              0  \n",
       "...               ...            ...            ...  \n",
       "67307               0              0              0  \n",
       "67308               0              0              1  \n",
       "67309               0              0              1  \n",
       "67310               0              0              0  \n",
       "67311               0              0              1  \n",
       "\n",
       "[67311 rows x 17 columns]"
      ]
     },
     "execution_count": 32,
     "metadata": {},
     "output_type": "execute_result"
    }
   ],
   "source": [
    "df_2"
   ]
  },
  {
   "cell_type": "code",
   "execution_count": 33,
   "id": "39fdbabf",
   "metadata": {},
   "outputs": [],
   "source": [
    "pivote_1 = df_2.pivot_table(index=[\"continent\"], aggfunc={\n",
    "    \"small_airport\": sum, \"heliport\": sum,\n",
    "    \"closed\": sum, \"medium_airport\": sum,\n",
    "    \"seaplane_base\": sum, \"large_airport\":sum, \n",
    "    \"balloonport\": sum\n",
    "})"
   ]
  },
  {
   "cell_type": "code",
   "execution_count": 34,
   "id": "ff34c51a",
   "metadata": {
    "scrolled": true
   },
   "outputs": [
    {
     "data": {
      "text/html": [
       "<div>\n",
       "<style scoped>\n",
       "    .dataframe tbody tr th:only-of-type {\n",
       "        vertical-align: middle;\n",
       "    }\n",
       "\n",
       "    .dataframe tbody tr th {\n",
       "        vertical-align: top;\n",
       "    }\n",
       "\n",
       "    .dataframe thead th {\n",
       "        text-align: right;\n",
       "    }\n",
       "</style>\n",
       "<table border=\"1\" class=\"dataframe\">\n",
       "  <thead>\n",
       "    <tr style=\"text-align: right;\">\n",
       "      <th></th>\n",
       "      <th>balloonport</th>\n",
       "      <th>closed</th>\n",
       "      <th>heliport</th>\n",
       "      <th>large_airport</th>\n",
       "      <th>medium_airport</th>\n",
       "      <th>seaplane_base</th>\n",
       "      <th>small_airport</th>\n",
       "    </tr>\n",
       "    <tr>\n",
       "      <th>continent</th>\n",
       "      <th></th>\n",
       "      <th></th>\n",
       "      <th></th>\n",
       "      <th></th>\n",
       "      <th></th>\n",
       "      <th></th>\n",
       "      <th></th>\n",
       "    </tr>\n",
       "  </thead>\n",
       "  <tbody>\n",
       "    <tr>\n",
       "      <th>AF</th>\n",
       "      <td>0</td>\n",
       "      <td>118.0</td>\n",
       "      <td>100.0</td>\n",
       "      <td>50</td>\n",
       "      <td>450.0</td>\n",
       "      <td>1.0</td>\n",
       "      <td>2914.0</td>\n",
       "    </tr>\n",
       "    <tr>\n",
       "      <th>AN</th>\n",
       "      <td>0</td>\n",
       "      <td>2.0</td>\n",
       "      <td>9.0</td>\n",
       "      <td>0</td>\n",
       "      <td>8.0</td>\n",
       "      <td>0.0</td>\n",
       "      <td>25.0</td>\n",
       "    </tr>\n",
       "    <tr>\n",
       "      <th>AS</th>\n",
       "      <td>0</td>\n",
       "      <td>763.0</td>\n",
       "      <td>4269.0</td>\n",
       "      <td>164</td>\n",
       "      <td>1195.0</td>\n",
       "      <td>41.0</td>\n",
       "      <td>2303.0</td>\n",
       "    </tr>\n",
       "    <tr>\n",
       "      <th>EU</th>\n",
       "      <td>7</td>\n",
       "      <td>1196.0</td>\n",
       "      <td>1419.0</td>\n",
       "      <td>153</td>\n",
       "      <td>944.0</td>\n",
       "      <td>29.0</td>\n",
       "      <td>5572.0</td>\n",
       "    </tr>\n",
       "    <tr>\n",
       "      <th>NoA</th>\n",
       "      <td>29</td>\n",
       "      <td>5160.0</td>\n",
       "      <td>8243.0</td>\n",
       "      <td>215</td>\n",
       "      <td>1242.0</td>\n",
       "      <td>992.0</td>\n",
       "      <td>17111.0</td>\n",
       "    </tr>\n",
       "    <tr>\n",
       "      <th>OC</th>\n",
       "      <td>0</td>\n",
       "      <td>135.0</td>\n",
       "      <td>332.0</td>\n",
       "      <td>16</td>\n",
       "      <td>312.0</td>\n",
       "      <td>11.0</td>\n",
       "      <td>2366.0</td>\n",
       "    </tr>\n",
       "    <tr>\n",
       "      <th>SA</th>\n",
       "      <td>1</td>\n",
       "      <td>258.0</td>\n",
       "      <td>1940.0</td>\n",
       "      <td>23</td>\n",
       "      <td>403.0</td>\n",
       "      <td>2.0</td>\n",
       "      <td>6788.0</td>\n",
       "    </tr>\n",
       "  </tbody>\n",
       "</table>\n",
       "</div>"
      ],
      "text/plain": [
       "           balloonport  closed  heliport  large_airport  medium_airport  \\\n",
       "continent                                                                 \n",
       "AF                   0   118.0     100.0             50           450.0   \n",
       "AN                   0     2.0       9.0              0             8.0   \n",
       "AS                   0   763.0    4269.0            164          1195.0   \n",
       "EU                   7  1196.0    1419.0            153           944.0   \n",
       "NoA                 29  5160.0    8243.0            215          1242.0   \n",
       "OC                   0   135.0     332.0             16           312.0   \n",
       "SA                   1   258.0    1940.0             23           403.0   \n",
       "\n",
       "           seaplane_base  small_airport  \n",
       "continent                                \n",
       "AF                   1.0         2914.0  \n",
       "AN                   0.0           25.0  \n",
       "AS                  41.0         2303.0  \n",
       "EU                  29.0         5572.0  \n",
       "NoA                992.0        17111.0  \n",
       "OC                  11.0         2366.0  \n",
       "SA                   2.0         6788.0  "
      ]
     },
     "execution_count": 34,
     "metadata": {},
     "output_type": "execute_result"
    }
   ],
   "source": [
    "pivote_1"
   ]
  },
  {
   "cell_type": "markdown",
   "id": "e28b40a5",
   "metadata": {},
   "source": [
    "#### 4.4 Graficar la tabla del punto 4.3"
   ]
  },
  {
   "cell_type": "code",
   "execution_count": 35,
   "id": "2037b04e",
   "metadata": {},
   "outputs": [
    {
     "data": {
      "text/plain": [
       "<AxesSubplot:xlabel='continent'>"
      ]
     },
     "execution_count": 35,
     "metadata": {},
     "output_type": "execute_result"
    },
    {
     "data": {
      "image/png": "[encoded data removed]",
      "text/plain": [
       "<Figure size 2160x576 with 1 Axes>"
      ]
     },
     "metadata": {},
     "output_type": "display_data"
    }
   ],
   "source": [
    "pivote_1.plot(kind=\"bar\")"
   ]
  },
  {
   "cell_type": "markdown",
   "id": "5336aa2e",
   "metadata": {},
   "source": [
    "### 5. Indicar cuántos \"large_airports\" hay en el continente Europeo (EU)"
   ]
  },
  {
   "cell_type": "code",
   "execution_count": 36,
   "id": "e0c77012",
   "metadata": {},
   "outputs": [],
   "source": [
    "pivote_2 = df_2[df_2[\"continent\"] == \"EU\"].pivot_table(index=\"continent\", aggfunc={\"large_airport\":sum})"
   ]
  },
  {
   "cell_type": "code",
   "execution_count": 37,
   "id": "42587c0f",
   "metadata": {},
   "outputs": [
    {
     "data": {
      "text/html": [
       "<div>\n",
       "<style scoped>\n",
       "    .dataframe tbody tr th:only-of-type {\n",
       "        vertical-align: middle;\n",
       "    }\n",
       "\n",
       "    .dataframe tbody tr th {\n",
       "        vertical-align: top;\n",
       "    }\n",
       "\n",
       "    .dataframe thead th {\n",
       "        text-align: right;\n",
       "    }\n",
       "</style>\n",
       "<table border=\"1\" class=\"dataframe\">\n",
       "  <thead>\n",
       "    <tr style=\"text-align: right;\">\n",
       "      <th></th>\n",
       "      <th>large_airport</th>\n",
       "    </tr>\n",
       "    <tr>\n",
       "      <th>continent</th>\n",
       "      <th></th>\n",
       "    </tr>\n",
       "  </thead>\n",
       "  <tbody>\n",
       "    <tr>\n",
       "      <th>EU</th>\n",
       "      <td>153</td>\n",
       "    </tr>\n",
       "  </tbody>\n",
       "</table>\n",
       "</div>"
      ],
      "text/plain": [
       "           large_airport\n",
       "continent               \n",
       "EU                   153"
      ]
     },
     "execution_count": 37,
     "metadata": {},
     "output_type": "execute_result"
    }
   ],
   "source": [
    "pivote_2"
   ]
  },
  {
   "cell_type": "markdown",
   "id": "4e2d952e",
   "metadata": {},
   "source": [
    "### 6. Graficar la cantidad de \"small_airports\" que hay en Asia por país\n"
   ]
  },
  {
   "cell_type": "code",
   "execution_count": 39,
   "id": "0dddc524",
   "metadata": {},
   "outputs": [
    {
     "data": {
      "text/html": [
       "<div>\n",
       "<style scoped>\n",
       "    .dataframe tbody tr th:only-of-type {\n",
       "        vertical-align: middle;\n",
       "    }\n",
       "\n",
       "    .dataframe tbody tr th {\n",
       "        vertical-align: top;\n",
       "    }\n",
       "\n",
       "    .dataframe thead th {\n",
       "        text-align: right;\n",
       "    }\n",
       "</style>\n",
       "<table border=\"1\" class=\"dataframe\">\n",
       "  <thead>\n",
       "    <tr style=\"text-align: right;\">\n",
       "      <th></th>\n",
       "      <th>small_airport</th>\n",
       "    </tr>\n",
       "    <tr>\n",
       "      <th>iso_country</th>\n",
       "      <th></th>\n",
       "    </tr>\n",
       "  </thead>\n",
       "  <tbody>\n",
       "    <tr>\n",
       "      <th>AE</th>\n",
       "      <td>20.0</td>\n",
       "    </tr>\n",
       "    <tr>\n",
       "      <th>AF</th>\n",
       "      <td>54.0</td>\n",
       "    </tr>\n",
       "    <tr>\n",
       "      <th>AM</th>\n",
       "      <td>8.0</td>\n",
       "    </tr>\n",
       "    <tr>\n",
       "      <th>AZ</th>\n",
       "      <td>18.0</td>\n",
       "    </tr>\n",
       "    <tr>\n",
       "      <th>BD</th>\n",
       "      <td>8.0</td>\n",
       "    </tr>\n",
       "    <tr>\n",
       "      <th>BH</th>\n",
       "      <td>1.0</td>\n",
       "    </tr>\n",
       "    <tr>\n",
       "      <th>BN</th>\n",
       "      <td>1.0</td>\n",
       "    </tr>\n",
       "    <tr>\n",
       "      <th>BT</th>\n",
       "      <td>2.0</td>\n",
       "    </tr>\n",
       "    <tr>\n",
       "      <th>CC</th>\n",
       "      <td>0.0</td>\n",
       "    </tr>\n",
       "    <tr>\n",
       "      <th>CN</th>\n",
       "      <td>110.0</td>\n",
       "    </tr>\n",
       "    <tr>\n",
       "      <th>CX</th>\n",
       "      <td>0.0</td>\n",
       "    </tr>\n",
       "    <tr>\n",
       "      <th>CY</th>\n",
       "      <td>7.0</td>\n",
       "    </tr>\n",
       "    <tr>\n",
       "      <th>EG</th>\n",
       "      <td>1.0</td>\n",
       "    </tr>\n",
       "    <tr>\n",
       "      <th>GE</th>\n",
       "      <td>6.0</td>\n",
       "    </tr>\n",
       "    <tr>\n",
       "      <th>HK</th>\n",
       "      <td>0.0</td>\n",
       "    </tr>\n",
       "    <tr>\n",
       "      <th>ID</th>\n",
       "      <td>395.0</td>\n",
       "    </tr>\n",
       "    <tr>\n",
       "      <th>IL</th>\n",
       "      <td>26.0</td>\n",
       "    </tr>\n",
       "    <tr>\n",
       "      <th>IN</th>\n",
       "      <td>166.0</td>\n",
       "    </tr>\n",
       "    <tr>\n",
       "      <th>IO</th>\n",
       "      <td>0.0</td>\n",
       "    </tr>\n",
       "    <tr>\n",
       "      <th>IQ</th>\n",
       "      <td>38.0</td>\n",
       "    </tr>\n",
       "    <tr>\n",
       "      <th>IR</th>\n",
       "      <td>73.0</td>\n",
       "    </tr>\n",
       "    <tr>\n",
       "      <th>JO</th>\n",
       "      <td>12.0</td>\n",
       "    </tr>\n",
       "    <tr>\n",
       "      <th>JP</th>\n",
       "      <td>164.0</td>\n",
       "    </tr>\n",
       "    <tr>\n",
       "      <th>KG</th>\n",
       "      <td>27.0</td>\n",
       "    </tr>\n",
       "    <tr>\n",
       "      <th>KH</th>\n",
       "      <td>7.0</td>\n",
       "    </tr>\n",
       "    <tr>\n",
       "      <th>KP</th>\n",
       "      <td>66.0</td>\n",
       "    </tr>\n",
       "    <tr>\n",
       "      <th>KR</th>\n",
       "      <td>65.0</td>\n",
       "    </tr>\n",
       "    <tr>\n",
       "      <th>KW</th>\n",
       "      <td>2.0</td>\n",
       "    </tr>\n",
       "    <tr>\n",
       "      <th>KZ</th>\n",
       "      <td>93.0</td>\n",
       "    </tr>\n",
       "    <tr>\n",
       "      <th>LA</th>\n",
       "      <td>11.0</td>\n",
       "    </tr>\n",
       "    <tr>\n",
       "      <th>LB</th>\n",
       "      <td>3.0</td>\n",
       "    </tr>\n",
       "    <tr>\n",
       "      <th>LK</th>\n",
       "      <td>8.0</td>\n",
       "    </tr>\n",
       "    <tr>\n",
       "      <th>MM</th>\n",
       "      <td>51.0</td>\n",
       "    </tr>\n",
       "    <tr>\n",
       "      <th>MN</th>\n",
       "      <td>18.0</td>\n",
       "    </tr>\n",
       "    <tr>\n",
       "      <th>MO</th>\n",
       "      <td>0.0</td>\n",
       "    </tr>\n",
       "    <tr>\n",
       "      <th>MV</th>\n",
       "      <td>9.0</td>\n",
       "    </tr>\n",
       "    <tr>\n",
       "      <th>MY</th>\n",
       "      <td>70.0</td>\n",
       "    </tr>\n",
       "    <tr>\n",
       "      <th>NP</th>\n",
       "      <td>42.0</td>\n",
       "    </tr>\n",
       "    <tr>\n",
       "      <th>OM</th>\n",
       "      <td>21.0</td>\n",
       "    </tr>\n",
       "    <tr>\n",
       "      <th>PH</th>\n",
       "      <td>135.0</td>\n",
       "    </tr>\n",
       "    <tr>\n",
       "      <th>PK</th>\n",
       "      <td>77.0</td>\n",
       "    </tr>\n",
       "    <tr>\n",
       "      <th>PS</th>\n",
       "      <td>1.0</td>\n",
       "    </tr>\n",
       "    <tr>\n",
       "      <th>QA</th>\n",
       "      <td>4.0</td>\n",
       "    </tr>\n",
       "    <tr>\n",
       "      <th>RU</th>\n",
       "      <td>85.0</td>\n",
       "    </tr>\n",
       "    <tr>\n",
       "      <th>SA</th>\n",
       "      <td>41.0</td>\n",
       "    </tr>\n",
       "    <tr>\n",
       "      <th>SG</th>\n",
       "      <td>2.0</td>\n",
       "    </tr>\n",
       "    <tr>\n",
       "      <th>SY</th>\n",
       "      <td>13.0</td>\n",
       "    </tr>\n",
       "    <tr>\n",
       "      <th>TH</th>\n",
       "      <td>40.0</td>\n",
       "    </tr>\n",
       "    <tr>\n",
       "      <th>TJ</th>\n",
       "      <td>12.0</td>\n",
       "    </tr>\n",
       "    <tr>\n",
       "      <th>TL</th>\n",
       "      <td>6.0</td>\n",
       "    </tr>\n",
       "    <tr>\n",
       "      <th>TM</th>\n",
       "      <td>17.0</td>\n",
       "    </tr>\n",
       "    <tr>\n",
       "      <th>TR</th>\n",
       "      <td>57.0</td>\n",
       "    </tr>\n",
       "    <tr>\n",
       "      <th>TW</th>\n",
       "      <td>18.0</td>\n",
       "    </tr>\n",
       "    <tr>\n",
       "      <th>UZ</th>\n",
       "      <td>159.0</td>\n",
       "    </tr>\n",
       "    <tr>\n",
       "      <th>VN</th>\n",
       "      <td>15.0</td>\n",
       "    </tr>\n",
       "    <tr>\n",
       "      <th>YE</th>\n",
       "      <td>18.0</td>\n",
       "    </tr>\n",
       "  </tbody>\n",
       "</table>\n",
       "</div>"
      ],
      "text/plain": [
       "             small_airport\n",
       "iso_country               \n",
       "AE                    20.0\n",
       "AF                    54.0\n",
       "AM                     8.0\n",
       "AZ                    18.0\n",
       "BD                     8.0\n",
       "BH                     1.0\n",
       "BN                     1.0\n",
       "BT                     2.0\n",
       "CC                     0.0\n",
       "CN                   110.0\n",
       "CX                     0.0\n",
       "CY                     7.0\n",
       "EG                     1.0\n",
       "GE                     6.0\n",
       "HK                     0.0\n",
       "ID                   395.0\n",
       "IL                    26.0\n",
       "IN                   166.0\n",
       "IO                     0.0\n",
       "IQ                    38.0\n",
       "IR                    73.0\n",
       "JO                    12.0\n",
       "JP                   164.0\n",
       "KG                    27.0\n",
       "KH                     7.0\n",
       "KP                    66.0\n",
       "KR                    65.0\n",
       "KW                     2.0\n",
       "KZ                    93.0\n",
       "LA                    11.0\n",
       "LB                     3.0\n",
       "LK                     8.0\n",
       "MM                    51.0\n",
       "MN                    18.0\n",
       "MO                     0.0\n",
       "MV                     9.0\n",
       "MY                    70.0\n",
       "NP                    42.0\n",
       "OM                    21.0\n",
       "PH                   135.0\n",
       "PK                    77.0\n",
       "PS                     1.0\n",
       "QA                     4.0\n",
       "RU                    85.0\n",
       "SA                    41.0\n",
       "SG                     2.0\n",
       "SY                    13.0\n",
       "TH                    40.0\n",
       "TJ                    12.0\n",
       "TL                     6.0\n",
       "TM                    17.0\n",
       "TR                    57.0\n",
       "TW                    18.0\n",
       "UZ                   159.0\n",
       "VN                    15.0\n",
       "YE                    18.0"
      ]
     },
     "execution_count": 39,
     "metadata": {},
     "output_type": "execute_result"
    }
   ],
   "source": [
    "pivote_3 = df_2[df_2[\"continent\"] == \"AS\"].pivot_table(index=\"iso_country\", aggfunc={\"small_airport\": sum})\n",
    "pivote_3"
   ]
  },
  {
   "cell_type": "code",
   "execution_count": 40,
   "id": "629fdec3",
   "metadata": {
    "scrolled": true
   },
   "outputs": [
    {
     "data": {
      "image/png": "[encoded data removed]",
      "text/plain": [
       "<Figure size 2160x576 with 1 Axes>"
      ]
     },
     "metadata": {},
     "output_type": "display_data"
    }
   ],
   "source": [
    "pivote_3.plot(kind=\"bar\")\n",
    "plt.show()"
   ]
  },
  {
   "cell_type": "markdown",
   "id": "63af5fae",
   "metadata": {},
   "source": [
    "### 7. Visualizar en proporción cuántos aeropuertos tienen scheduled service y cuántos no"
   ]
  },
  {
   "cell_type": "code",
   "execution_count": 41,
   "id": "e0550190",
   "metadata": {},
   "outputs": [
    {
     "data": {
      "text/plain": [
       "<AxesSubplot:ylabel='scheduled_service'>"
      ]
     },
     "execution_count": 41,
     "metadata": {},
     "output_type": "execute_result"
    },
    {
     "data": {
      "image/png": "[encoded data removed]",
      "text/plain": [
       "<Figure size 2160x576 with 1 Axes>"
      ]
     },
     "metadata": {},
     "output_type": "display_data"
    }
   ],
   "source": [
    "df[\"scheduled_service\"].value_counts().plot(kind=\"pie\", autopct=\"%1.2f%%\")"
   ]
  },
  {
   "cell_type": "markdown",
   "id": "274b9925",
   "metadata": {},
   "source": [
    "Muchas veces, a lo largo de un análisis, surgen preguntas que hay que sacar de otras fuentes o bases de datos. Por lo que es normal ir abriendo datasets uy creando dataframes en base a lo que vamos necesitando."
   ]
  },
  {
   "cell_type": "code",
   "execution_count": 50,
   "id": "0d9c1cf6",
   "metadata": {},
   "outputs": [
    {
     "data": {
      "text/html": [
       "<div>\n",
       "<style scoped>\n",
       "    .dataframe tbody tr th:only-of-type {\n",
       "        vertical-align: middle;\n",
       "    }\n",
       "\n",
       "    .dataframe tbody tr th {\n",
       "        vertical-align: top;\n",
       "    }\n",
       "\n",
       "    .dataframe thead th {\n",
       "        text-align: right;\n",
       "    }\n",
       "</style>\n",
       "<table border=\"1\" class=\"dataframe\">\n",
       "  <thead>\n",
       "    <tr style=\"text-align: right;\">\n",
       "      <th></th>\n",
       "      <th>id</th>\n",
       "      <th>code</th>\n",
       "      <th>name</th>\n",
       "      <th>continent</th>\n",
       "      <th>number_of_airports</th>\n",
       "      <th>number_of_medium_airports</th>\n",
       "      <th>number_of_small_airports</th>\n",
       "    </tr>\n",
       "  </thead>\n",
       "  <tbody>\n",
       "    <tr>\n",
       "      <th>0</th>\n",
       "      <td>302672</td>\n",
       "      <td>AD</td>\n",
       "      <td>Andorra</td>\n",
       "      <td>EU</td>\n",
       "      <td>3.0</td>\n",
       "      <td>0.0</td>\n",
       "      <td>0.0</td>\n",
       "    </tr>\n",
       "    <tr>\n",
       "      <th>1</th>\n",
       "      <td>302618</td>\n",
       "      <td>AE</td>\n",
       "      <td>United Arab Emirates</td>\n",
       "      <td>AS</td>\n",
       "      <td>116.0</td>\n",
       "      <td>7.0</td>\n",
       "      <td>20.0</td>\n",
       "    </tr>\n",
       "    <tr>\n",
       "      <th>2</th>\n",
       "      <td>302619</td>\n",
       "      <td>AF</td>\n",
       "      <td>Afghanistan</td>\n",
       "      <td>AS</td>\n",
       "      <td>74.0</td>\n",
       "      <td>9.0</td>\n",
       "      <td>54.0</td>\n",
       "    </tr>\n",
       "    <tr>\n",
       "      <th>3</th>\n",
       "      <td>302722</td>\n",
       "      <td>AG</td>\n",
       "      <td>Antigua and Barbuda</td>\n",
       "      <td>NoA</td>\n",
       "      <td>4.0</td>\n",
       "      <td>1.0</td>\n",
       "      <td>2.0</td>\n",
       "    </tr>\n",
       "    <tr>\n",
       "      <th>4</th>\n",
       "      <td>302723</td>\n",
       "      <td>AI</td>\n",
       "      <td>Anguilla</td>\n",
       "      <td>NoA</td>\n",
       "      <td>2.0</td>\n",
       "      <td>1.0</td>\n",
       "      <td>0.0</td>\n",
       "    </tr>\n",
       "    <tr>\n",
       "      <th>...</th>\n",
       "      <td>...</td>\n",
       "      <td>...</td>\n",
       "      <td>...</td>\n",
       "      <td>...</td>\n",
       "      <td>...</td>\n",
       "      <td>...</td>\n",
       "      <td>...</td>\n",
       "    </tr>\n",
       "    <tr>\n",
       "      <th>242</th>\n",
       "      <td>302609</td>\n",
       "      <td>YT</td>\n",
       "      <td>Mayotte</td>\n",
       "      <td>AF</td>\n",
       "      <td>1.0</td>\n",
       "      <td>1.0</td>\n",
       "      <td>0.0</td>\n",
       "    </tr>\n",
       "    <tr>\n",
       "      <th>243</th>\n",
       "      <td>302610</td>\n",
       "      <td>ZA</td>\n",
       "      <td>South Africa</td>\n",
       "      <td>AF</td>\n",
       "      <td>837.0</td>\n",
       "      <td>67.0</td>\n",
       "      <td>702.0</td>\n",
       "    </tr>\n",
       "    <tr>\n",
       "      <th>244</th>\n",
       "      <td>302611</td>\n",
       "      <td>ZM</td>\n",
       "      <td>Zambia</td>\n",
       "      <td>AF</td>\n",
       "      <td>103.0</td>\n",
       "      <td>7.0</td>\n",
       "      <td>94.0</td>\n",
       "    </tr>\n",
       "    <tr>\n",
       "      <th>245</th>\n",
       "      <td>302612</td>\n",
       "      <td>ZW</td>\n",
       "      <td>Zimbabwe</td>\n",
       "      <td>AF</td>\n",
       "      <td>144.0</td>\n",
       "      <td>8.0</td>\n",
       "      <td>131.0</td>\n",
       "    </tr>\n",
       "    <tr>\n",
       "      <th>246</th>\n",
       "      <td>302613</td>\n",
       "      <td>ZZ</td>\n",
       "      <td>Unknown or unassigned country</td>\n",
       "      <td>AF</td>\n",
       "      <td>0.0</td>\n",
       "      <td>0.0</td>\n",
       "      <td>0.0</td>\n",
       "    </tr>\n",
       "  </tbody>\n",
       "</table>\n",
       "<p>247 rows × 7 columns</p>\n",
       "</div>"
      ],
      "text/plain": [
       "         id code                           name continent  number_of_airports  \\\n",
       "0    302672   AD                        Andorra        EU                 3.0   \n",
       "1    302618   AE           United Arab Emirates        AS               116.0   \n",
       "2    302619   AF                    Afghanistan        AS                74.0   \n",
       "3    302722   AG            Antigua and Barbuda       NoA                 4.0   \n",
       "4    302723   AI                       Anguilla       NoA                 2.0   \n",
       "..      ...  ...                            ...       ...                 ...   \n",
       "242  302609   YT                        Mayotte        AF                 1.0   \n",
       "243  302610   ZA                   South Africa        AF               837.0   \n",
       "244  302611   ZM                         Zambia        AF               103.0   \n",
       "245  302612   ZW                       Zimbabwe        AF               144.0   \n",
       "246  302613   ZZ  Unknown or unassigned country        AF                 0.0   \n",
       "\n",
       "     number_of_medium_airports  number_of_small_airports  \n",
       "0                          0.0                       0.0  \n",
       "1                          7.0                      20.0  \n",
       "2                          9.0                      54.0  \n",
       "3                          1.0                       2.0  \n",
       "4                          1.0                       0.0  \n",
       "..                         ...                       ...  \n",
       "242                        1.0                       0.0  \n",
       "243                       67.0                     702.0  \n",
       "244                        7.0                      94.0  \n",
       "245                        8.0                     131.0  \n",
       "246                        0.0                       0.0  \n",
       "\n",
       "[247 rows x 7 columns]"
      ]
     },
     "execution_count": 50,
     "metadata": {},
     "output_type": "execute_result"
    }
   ],
   "source": [
    "df_countries = pd.read_csv(\"https://raw.githubusercontent.com/mdlstudioar/datosoct/main/countries\")\n",
    "df_countries"
   ]
  },
  {
   "cell_type": "code",
   "execution_count": 51,
   "id": "4e059db8",
   "metadata": {},
   "outputs": [
    {
     "data": {
      "text/plain": [
       "id                           0\n",
       "code                         0\n",
       "name                         0\n",
       "continent                    0\n",
       "number_of_airports           0\n",
       "number_of_medium_airports    0\n",
       "number_of_small_airports     0\n",
       "dtype: int64"
      ]
     },
     "execution_count": 51,
     "metadata": {},
     "output_type": "execute_result"
    }
   ],
   "source": [
    "df_countries.isnull().sum()"
   ]
  },
  {
   "cell_type": "markdown",
   "id": "73e5098c",
   "metadata": {},
   "source": [
    "### 8. Informar el número de aeropuertos por país en un mapa."
   ]
  },
  {
   "cell_type": "code",
   "execution_count": 52,
   "id": "17980775",
   "metadata": {
    "scrolled": true
   },
   "outputs": [
    {
     "data": {
      "application/vnd.plotly.v1+json": {
       "config": {
        "plotlyServerURL": "https://plot.ly"
       },
       "data": [
        {
         "coloraxis": "coloraxis",
         "geo": "geo",
         "hovertemplate": "<b>%{hovertext}</b><br><br>name=%{location}<br>number_of_airports=%{z}<extra></extra>",
         "hovertext": [
          3,
          116,
          74,
          4,
          2,
          14,
          16,
          111,
          39,
          883,
          4,
          146,
          2054,
          3,
          39,
          18,
          2,
          38,
          177,
          51,
          144,
          11,
          7,
          10,
          1,
          3,
          15,
          199,
          4,
          5970,
          74,
          10,
          132,
          58,
          34,
          2854,
          1,
          292,
          47,
          56,
          87,
          30,
          10,
          480,
          39,
          469,
          709,
          134,
          141,
          10,
          1,
          1,
          55,
          288,
          974,
          11,
          128,
          2,
          39,
          71,
          123,
          40,
          78,
          20,
          9,
          468,
          61,
          117,
          34,
          39,
          6,
          16,
          959,
          39,
          1332,
          3,
          31,
          16,
          3,
          17,
          1,
          84,
          1,
          16,
          6,
          7,
          115,
          1,
          58,
          4,
          7,
          48,
          87,
          159,
          61,
          20,
          122,
          491,
          114,
          46,
          6,
          540,
          1,
          80,
          153,
          86,
          825,
          1,
          26,
          17,
          2580,
          376,
          54,
          17,
          22,
          4,
          2,
          94,
          1378,
          21,
          10,
          150,
          20,
          11,
          2,
          2,
          37,
          18,
          33,
          65,
          9,
          77,
          66,
          35,
          3,
          11,
          7,
          2,
          84,
          35,
          15,
          32,
          80,
          30,
          4,
          11,
          4,
          27,
          2,
          7,
          4,
          27,
          29,
          1817,
          111,
          96,
          0,
          22,
          23,
          1,
          63,
          33,
          122,
          249,
          50,
          1,
          1,
          212,
          32,
          79,
          175,
          55,
          599,
          535,
          162,
          324,
          2,
          0,
          64,
          7,
          221,
          3,
          69,
          16,
          2,
          64,
          44,
          1352,
          9,
          91,
          38,
          21,
          38,
          240,
          10,
          4,
          42,
          113,
          12,
          2,
          20,
          38,
          51,
          65,
          4,
          27,
          1,
          31,
          16,
          8,
          37,
          7,
          7,
          85,
          18,
          0,
          13,
          46,
          16,
          6,
          203,
          3,
          3,
          79,
          209,
          230,
          37,
          8,
          27261,
          54,
          177,
          1,
          6,
          599,
          5,
          9,
          55,
          36,
          2,
          5,
          7,
          29,
          1,
          837,
          103,
          144,
          0
         ],
         "locationmode": "country names",
         "locations": [
          "Andorra",
          "United Arab Emirates",
          "Afghanistan",
          "Antigua and Barbuda",
          "Anguilla",
          "Albania",
          "Armenia",
          "Angola",
          "Antarctica",
          "Argentina",
          "American Samoa",
          "Austria",
          "Australia",
          "Aruba",
          "Azerbaijan",
          "Bosnia and Herzegovina",
          "Barbados",
          "Bangladesh",
          "Belgium",
          "Burkina Faso",
          "Bulgaria",
          "Bahrain",
          "Burundi",
          "Benin",
          "Saint Barthélemy",
          "Bermuda",
          "Brunei",
          "Bolivia",
          "Caribbean Netherlands",
          "Brazil",
          "Bahamas",
          "Bhutan",
          "Botswana",
          "Belarus",
          "Belize",
          "Canada",
          "Cocos (Keeling) Islands",
          "Congo (Kinshasa)",
          "Central African Republic",
          "Congo (Brazzaville)",
          "Switzerland",
          "Côte d'Ivoire",
          "Cook Islands",
          "Chile",
          "Cameroon",
          "China",
          "Colombia",
          "Costa Rica",
          "Cuba",
          "Cape Verde",
          "Curaçao",
          "Christmas Island",
          "Cyprus",
          "Czech Republic",
          "Germany",
          "Djibouti",
          "Denmark",
          "Dominica",
          "Dominican Republic",
          "Algeria",
          "Ecuador",
          "Estonia",
          "Egypt",
          "Western Sahara",
          "Eritrea",
          "Spain",
          "Ethiopia",
          "Finland",
          "Fiji",
          "Falkland Islands",
          "Micronesia",
          "Faroe Islands",
          "France",
          "Gabon",
          "United Kingdom",
          "Grenada",
          "Georgia",
          "French Guiana",
          "Guernsey",
          "Ghana",
          "Gibraltar",
          "Greenland",
          "Gambia",
          "Guinea",
          "Guadeloupe",
          "Equatorial Guinea",
          "Greece",
          "South Georgia and the South Sandwich Islands",
          "Guatemala",
          "Guam",
          "Guinea-Bissau",
          "Guyana",
          "Hong Kong",
          "Honduras",
          "Croatia",
          "Haiti",
          "Hungary",
          "Indonesia",
          "Ireland",
          "Israel",
          "Isle of Man",
          "India",
          "British Indian Ocean Territory",
          "Iraq",
          "Iran",
          "Iceland",
          "Italy",
          "Jersey",
          "Jamaica",
          "Jordan",
          "Japan",
          "Kenya",
          "Kyrgyzstan",
          "Cambodia",
          "Kiribati",
          "Comoros",
          "Saint Kitts and Nevis",
          "North Korea",
          "South Korea",
          "Kuwait",
          "Cayman Islands",
          "Kazakhstan",
          "Laos",
          "Lebanon",
          "Saint Lucia",
          "Liechtenstein",
          "Sri Lanka",
          "Liberia",
          "Lesotho",
          "Lithuania",
          "Luxembourg",
          "Latvia",
          "Libya",
          "Morocco",
          "Monaco",
          "Moldova",
          "Montenegro",
          "Saint Martin",
          "Madagascar",
          "Marshall Islands",
          "North Macedonia",
          "Mali",
          "Burma",
          "Mongolia",
          "Macau",
          "Northern Mariana Islands",
          "Martinique",
          "Mauritania",
          "Montserrat",
          "Malta",
          "Mauritius",
          "Maldives",
          "Malawi",
          "Mexico",
          "Malaysia",
          "Mozambique",
          "Namibia",
          "New Caledonia",
          "Niger",
          "Norfolk Island",
          "Nigeria",
          "Nicaragua",
          "Netherlands",
          "Norway",
          "Nepal",
          "Nauru",
          "Niue",
          "New Zealand",
          "Oman",
          "Panama",
          "Peru",
          "French Polynesia",
          "Papua New Guinea",
          "Philippines",
          "Pakistan",
          "Poland",
          "Saint Pierre and Miquelon",
          "Pitcairn",
          "Puerto Rico",
          "Palestinian Territory",
          "Portugal",
          "Palau",
          "Paraguay",
          "Qatar",
          "Réunion",
          "Romania",
          "Serbia",
          "Russia",
          "Rwanda",
          "Saudi Arabia",
          "Solomon Islands",
          "Seychelles",
          "Sudan",
          "Sweden",
          "Singapore",
          "Saint Helena",
          "Slovenia",
          "Slovakia",
          "Sierra Leone",
          "San Marino",
          "Senegal",
          "Somalia",
          "Suriname",
          "South Sudan",
          "São Tomé and Principe",
          "El Salvador",
          "Sint Maarten",
          "Syria",
          "Eswatini",
          "Turks and Caicos Islands",
          "Chad",
          "French Southern Territories",
          "Togo",
          "Thailand",
          "Tajikistan",
          "Tokelau",
          "Timor-Leste",
          "Turkmenistan",
          "Tunisia",
          "Tonga",
          "Turkey",
          "Trinidad and Tobago",
          "Tuvalu",
          "Taiwan",
          "Tanzania",
          "Ukraine",
          "Uganda",
          "United States Minor Outlying Islands",
          "United States",
          "Uruguay",
          "Uzbekistan",
          "Vatican City",
          "Saint Vincent and the Grenadines",
          "Venezuela",
          "British Virgin Islands",
          "U.S. Virgin Islands",
          "Vietnam",
          "Vanuatu",
          "Wallis and Futuna",
          "Samoa",
          "Kosovo",
          "Yemen",
          "Mayotte",
          "South Africa",
          "Zambia",
          "Zimbabwe",
          "Unknown or unassigned country"
         ],
         "name": "",
         "type": "choropleth",
         "z": [
          3,
          116,
          74,
          4,
          2,
          14,
          16,
          111,
          39,
          883,
          4,
          146,
          2054,
          3,
          39,
          18,
          2,
          38,
          177,
          51,
          144,
          11,
          7,
          10,
          1,
          3,
          15,
          199,
          4,
          5970,
          74,
          10,
          132,
          58,
          34,
          2854,
          1,
          292,
          47,
          56,
          87,
          30,
          10,
          480,
          39,
          469,
          709,
          134,
          141,
          10,
          1,
          1,
          55,
          288,
          974,
          11,
          128,
          2,
          39,
          71,
          123,
          40,
          78,
          20,
          9,
          468,
          61,
          117,
          34,
          39,
          6,
          16,
          959,
          39,
          1332,
          3,
          31,
          16,
          3,
          17,
          1,
          84,
          1,
          16,
          6,
          7,
          115,
          1,
          58,
          4,
          7,
          48,
          87,
          159,
          61,
          20,
          122,
          491,
          114,
          46,
          6,
          540,
          1,
          80,
          153,
          86,
          825,
          1,
          26,
          17,
          2580,
          376,
          54,
          17,
          22,
          4,
          2,
          94,
          1378,
          21,
          10,
          150,
          20,
          11,
          2,
          2,
          37,
          18,
          33,
          65,
          9,
          77,
          66,
          35,
          3,
          11,
          7,
          2,
          84,
          35,
          15,
          32,
          80,
          30,
          4,
          11,
          4,
          27,
          2,
          7,
          4,
          27,
          29,
          1817,
          111,
          96,
          0,
          22,
          23,
          1,
          63,
          33,
          122,
          249,
          50,
          1,
          1,
          212,
          32,
          79,
          175,
          55,
          599,
          535,
          162,
          324,
          2,
          0,
          64,
          7,
          221,
          3,
          69,
          16,
          2,
          64,
          44,
          1352,
          9,
          91,
          38,
          21,
          38,
          240,
          10,
          4,
          42,
          113,
          12,
          2,
          20,
          38,
          51,
          65,
          4,
          27,
          1,
          31,
          16,
          8,
          37,
          7,
          7,
          85,
          18,
          0,
          13,
          46,
          16,
          6,
          203,
          3,
          3,
          79,
          209,
          230,
          37,
          8,
          27261,
          54,
          177,
          1,
          6,
          599,
          5,
          9,
          55,
          36,
          2,
          5,
          7,
          29,
          1,
          837,
          103,
          144,
          0
         ]
        }
       ],
       "layout": {
        "coloraxis": {
         "colorbar": {
          "title": {
           "text": "number_of_airports"
          }
         },
         "colorscale": [
          [
           0,
           "#0d0887"
          ],
          [
           0.1111111111111111,
           "#46039f"
          ],
          [
           0.2222222222222222,
           "#7201a8"
          ],
          [
           0.3333333333333333,
           "#9c179e"
          ],
          [
           0.4444444444444444,
           "#bd3786"
          ],
          [
           0.5555555555555556,
           "#d8576b"
          ],
          [
           0.6666666666666666,
           "#ed7953"
          ],
          [
           0.7777777777777778,
           "#fb9f3a"
          ],
          [
           0.8888888888888888,
           "#fdca26"
          ],
          [
           1,
           "#f0f921"
          ]
         ]
        },
        "geo": {
         "center": {},
         "domain": {
          "x": [
           0,
           1
          ],
          "y": [
           0,
           1
          ]
         }
        },
        "legend": {
         "tracegroupgap": 0
        },
        "template": {
         "data": {
          "bar": [
           {
            "error_x": {
             "color": "#2a3f5f"
            },
            "error_y": {
             "color": "#2a3f5f"
            },
            "marker": {
             "line": {
              "color": "#E5ECF6",
              "width": 0.5
             },
             "pattern": {
              "fillmode": "overlay",
              "size": 10,
              "solidity": 0.2
             }
            },
            "type": "bar"
           }
          ],
          "barpolar": [
           {
            "marker": {
             "line": {
              "color": "#E5ECF6",
              "width": 0.5
             },
             "pattern": {
              "fillmode": "overlay",
              "size": 10,
              "solidity": 0.2
             }
            },
            "type": "barpolar"
           }
          ],
          "carpet": [
           {
            "aaxis": {
             "endlinecolor": "#2a3f5f",
             "gridcolor": "white",
             "linecolor": "white",
             "minorgridcolor": "white",
             "startlinecolor": "#2a3f5f"
            },
            "baxis": {
             "endlinecolor": "#2a3f5f",
             "gridcolor": "white",
             "linecolor": "white",
             "minorgridcolor": "white",
             "startlinecolor": "#2a3f5f"
            },
            "type": "carpet"
           }
          ],
          "choropleth": [
           {
            "colorbar": {
             "outlinewidth": 0,
             "ticks": ""
            },
            "type": "choropleth"
           }
          ],
          "contour": [
           {
            "colorbar": {
             "outlinewidth": 0,
             "ticks": ""
            },
            "colorscale": [
             [
              0,
              "#0d0887"
             ],
             [
              0.1111111111111111,
              "#46039f"
             ],
             [
              0.2222222222222222,
              "#7201a8"
             ],
             [
              0.3333333333333333,
              "#9c179e"
             ],
             [
              0.4444444444444444,
              "#bd3786"
             ],
             [
              0.5555555555555556,
              "#d8576b"
             ],
             [
              0.6666666666666666,
              "#ed7953"
             ],
             [
              0.7777777777777778,
              "#fb9f3a"
             ],
             [
              0.8888888888888888,
              "#fdca26"
             ],
             [
              1,
              "#f0f921"
             ]
            ],
            "type": "contour"
           }
          ],
          "contourcarpet": [
           {
            "colorbar": {
             "outlinewidth": 0,
             "ticks": ""
            },
            "type": "contourcarpet"
           }
          ],
          "heatmap": [
           {
            "colorbar": {
             "outlinewidth": 0,
             "ticks": ""
            },
            "colorscale": [
             [
              0,
              "#0d0887"
             ],
             [
              0.1111111111111111,
              "#46039f"
             ],
             [
              0.2222222222222222,
              "#7201a8"
             ],
             [
              0.3333333333333333,
              "#9c179e"
             ],
             [
              0.4444444444444444,
              "#bd3786"
             ],
             [
              0.5555555555555556,
              "#d8576b"
             ],
             [
              0.6666666666666666,
              "#ed7953"
             ],
             [
              0.7777777777777778,
              "#fb9f3a"
             ],
             [
              0.8888888888888888,
              "#fdca26"
             ],
             [
              1,
              "#f0f921"
             ]
            ],
            "type": "heatmap"
           }
          ],
          "heatmapgl": [
           {
            "colorbar": {
             "outlinewidth": 0,
             "ticks": ""
            },
            "colorscale": [
             [
              0,
              "#0d0887"
             ],
             [
              0.1111111111111111,
              "#46039f"
             ],
             [
              0.2222222222222222,
              "#7201a8"
             ],
             [
              0.3333333333333333,
              "#9c179e"
             ],
             [
              0.4444444444444444,
              "#bd3786"
             ],
             [
              0.5555555555555556,
              "#d8576b"
             ],
             [
              0.6666666666666666,
              "#ed7953"
             ],
             [
              0.7777777777777778,
              "#fb9f3a"
             ],
             [
              0.8888888888888888,
              "#fdca26"
             ],
             [
              1,
              "#f0f921"
             ]
            ],
            "type": "heatmapgl"
           }
          ],
          "histogram": [
           {
            "marker": {
             "pattern": {
              "fillmode": "overlay",
              "size": 10,
              "solidity": 0.2
             }
            },
            "type": "histogram"
           }
          ],
          "histogram2d": [
           {
            "colorbar": {
             "outlinewidth": 0,
             "ticks": ""
            },
            "colorscale": [
             [
              0,
              "#0d0887"
             ],
             [
              0.1111111111111111,
              "#46039f"
             ],
             [
              0.2222222222222222,
              "#7201a8"
             ],
             [
              0.3333333333333333,
              "#9c179e"
             ],
             [
              0.4444444444444444,
              "#bd3786"
             ],
             [
              0.5555555555555556,
              "#d8576b"
             ],
             [
              0.6666666666666666,
              "#ed7953"
             ],
             [
              0.7777777777777778,
              "#fb9f3a"
             ],
             [
              0.8888888888888888,
              "#fdca26"
             ],
             [
              1,
              "#f0f921"
             ]
            ],
            "type": "histogram2d"
           }
          ],
          "histogram2dcontour": [
           {
            "colorbar": {
             "outlinewidth": 0,
             "ticks": ""
            },
            "colorscale": [
             [
              0,
              "#0d0887"
             ],
             [
              0.1111111111111111,
              "#46039f"
             ],
             [
              0.2222222222222222,
              "#7201a8"
             ],
             [
              0.3333333333333333,
              "#9c179e"
             ],
             [
              0.4444444444444444,
              "#bd3786"
             ],
             [
              0.5555555555555556,
              "#d8576b"
             ],
             [
              0.6666666666666666,
              "#ed7953"
             ],
             [
              0.7777777777777778,
              "#fb9f3a"
             ],
             [
              0.8888888888888888,
              "#fdca26"
             ],
             [
              1,
              "#f0f921"
             ]
            ],
            "type": "histogram2dcontour"
           }
          ],
          "mesh3d": [
           {
            "colorbar": {
             "outlinewidth": 0,
             "ticks": ""
            },
            "type": "mesh3d"
           }
          ],
          "parcoords": [
           {
            "line": {
             "colorbar": {
              "outlinewidth": 0,
              "ticks": ""
             }
            },
            "type": "parcoords"
           }
          ],
          "pie": [
           {
            "automargin": true,
            "type": "pie"
           }
          ],
          "scatter": [
           {
            "marker": {
             "colorbar": {
              "outlinewidth": 0,
              "ticks": ""
             }
            },
            "type": "scatter"
           }
          ],
          "scatter3d": [
           {
            "line": {
             "colorbar": {
              "outlinewidth": 0,
              "ticks": ""
             }
            },
            "marker": {
             "colorbar": {
              "outlinewidth": 0,
              "ticks": ""
             }
            },
            "type": "scatter3d"
           }
          ],
          "scattercarpet": [
           {
            "marker": {
             "colorbar": {
              "outlinewidth": 0,
              "ticks": ""
             }
            },
            "type": "scattercarpet"
           }
          ],
          "scattergeo": [
           {
            "marker": {
             "colorbar": {
              "outlinewidth": 0,
              "ticks": ""
             }
            },
            "type": "scattergeo"
           }
          ],
          "scattergl": [
           {
            "marker": {
             "colorbar": {
              "outlinewidth": 0,
              "ticks": ""
             }
            },
            "type": "scattergl"
           }
          ],
          "scattermapbox": [
           {
            "marker": {
             "colorbar": {
              "outlinewidth": 0,
              "ticks": ""
             }
            },
            "type": "scattermapbox"
           }
          ],
          "scatterpolar": [
           {
            "marker": {
             "colorbar": {
              "outlinewidth": 0,
              "ticks": ""
             }
            },
            "type": "scatterpolar"
           }
          ],
          "scatterpolargl": [
           {
            "marker": {
             "colorbar": {
              "outlinewidth": 0,
              "ticks": ""
             }
            },
            "type": "scatterpolargl"
           }
          ],
          "scatterternary": [
           {
            "marker": {
             "colorbar": {
              "outlinewidth": 0,
              "ticks": ""
             }
            },
            "type": "scatterternary"
           }
          ],
          "surface": [
           {
            "colorbar": {
             "outlinewidth": 0,
             "ticks": ""
            },
            "colorscale": [
             [
              0,
              "#0d0887"
             ],
             [
              0.1111111111111111,
              "#46039f"
             ],
             [
              0.2222222222222222,
              "#7201a8"
             ],
             [
              0.3333333333333333,
              "#9c179e"
             ],
             [
              0.4444444444444444,
              "#bd3786"
             ],
             [
              0.5555555555555556,
              "#d8576b"
             ],
             [
              0.6666666666666666,
              "#ed7953"
             ],
             [
              0.7777777777777778,
              "#fb9f3a"
             ],
             [
              0.8888888888888888,
              "#fdca26"
             ],
             [
              1,
              "#f0f921"
             ]
            ],
            "type": "surface"
           }
          ],
          "table": [
           {
            "cells": {
             "fill": {
              "color": "#EBF0F8"
             },
             "line": {
              "color": "white"
             }
            },
            "header": {
             "fill": {
              "color": "#C8D4E3"
             },
             "line": {
              "color": "white"
             }
            },
            "type": "table"
           }
          ]
         },
         "layout": {
          "annotationdefaults": {
           "arrowcolor": "#2a3f5f",
           "arrowhead": 0,
           "arrowwidth": 1
          },
          "autotypenumbers": "strict",
          "coloraxis": {
           "colorbar": {
            "outlinewidth": 0,
            "ticks": ""
           }
          },
          "colorscale": {
           "diverging": [
            [
             0,
             "#8e0152"
            ],
            [
             0.1,
             "#c51b7d"
            ],
            [
             0.2,
             "#de77ae"
            ],
            [
             0.3,
             "#f1b6da"
            ],
            [
             0.4,
             "#fde0ef"
            ],
            [
             0.5,
             "#f7f7f7"
            ],
            [
             0.6,
             "#e6f5d0"
            ],
            [
             0.7,
             "#b8e186"
            ],
            [
             0.8,
             "#7fbc41"
            ],
            [
             0.9,
             "#4d9221"
            ],
            [
             1,
             "#276419"
            ]
           ],
           "sequential": [
            [
             0,
             "#0d0887"
            ],
            [
             0.1111111111111111,
             "#46039f"
            ],
            [
             0.2222222222222222,
             "#7201a8"
            ],
            [
             0.3333333333333333,
             "#9c179e"
            ],
            [
             0.4444444444444444,
             "#bd3786"
            ],
            [
             0.5555555555555556,
             "#d8576b"
            ],
            [
             0.6666666666666666,
             "#ed7953"
            ],
            [
             0.7777777777777778,
             "#fb9f3a"
            ],
            [
             0.8888888888888888,
             "#fdca26"
            ],
            [
             1,
             "#f0f921"
            ]
           ],
           "sequentialminus": [
            [
             0,
             "#0d0887"
            ],
            [
             0.1111111111111111,
             "#46039f"
            ],
            [
             0.2222222222222222,
             "#7201a8"
            ],
            [
             0.3333333333333333,
             "#9c179e"
            ],
            [
             0.4444444444444444,
             "#bd3786"
            ],
            [
             0.5555555555555556,
             "#d8576b"
            ],
            [
             0.6666666666666666,
             "#ed7953"
            ],
            [
             0.7777777777777778,
             "#fb9f3a"
            ],
            [
             0.8888888888888888,
             "#fdca26"
            ],
            [
             1,
             "#f0f921"
            ]
           ]
          },
          "colorway": [
           "#636efa",
           "#EF553B",
           "#00cc96",
           "#ab63fa",
           "#FFA15A",
           "#19d3f3",
           "#FF6692",
           "#B6E880",
           "#FF97FF",
           "#FECB52"
          ],
          "font": {
           "color": "#2a3f5f"
          },
          "geo": {
           "bgcolor": "white",
           "lakecolor": "white",
           "landcolor": "#E5ECF6",
           "showlakes": true,
           "showland": true,
           "subunitcolor": "white"
          },
          "hoverlabel": {
           "align": "left"
          },
          "hovermode": "closest",
          "mapbox": {
           "style": "light"
          },
          "paper_bgcolor": "white",
          "plot_bgcolor": "#E5ECF6",
          "polar": {
           "angularaxis": {
            "gridcolor": "white",
            "linecolor": "white",
            "ticks": ""
           },
           "bgcolor": "#E5ECF6",
           "radialaxis": {
            "gridcolor": "white",
            "linecolor": "white",
            "ticks": ""
           }
          },
          "scene": {
           "xaxis": {
            "backgroundcolor": "#E5ECF6",
            "gridcolor": "white",
            "gridwidth": 2,
            "linecolor": "white",
            "showbackground": true,
            "ticks": "",
            "zerolinecolor": "white"
           },
           "yaxis": {
            "backgroundcolor": "#E5ECF6",
            "gridcolor": "white",
            "gridwidth": 2,
            "linecolor": "white",
            "showbackground": true,
            "ticks": "",
            "zerolinecolor": "white"
           },
           "zaxis": {
            "backgroundcolor": "#E5ECF6",
            "gridcolor": "white",
            "gridwidth": 2,
            "linecolor": "white",
            "showbackground": true,
            "ticks": "",
            "zerolinecolor": "white"
           }
          },
          "shapedefaults": {
           "line": {
            "color": "#2a3f5f"
           }
          },
          "ternary": {
           "aaxis": {
            "gridcolor": "white",
            "linecolor": "white",
            "ticks": ""
           },
           "baxis": {
            "gridcolor": "white",
            "linecolor": "white",
            "ticks": ""
           },
           "bgcolor": "#E5ECF6",
           "caxis": {
            "gridcolor": "white",
            "linecolor": "white",
            "ticks": ""
           }
          },
          "title": {
           "x": 0.05
          },
          "xaxis": {
           "automargin": true,
           "gridcolor": "white",
           "linecolor": "white",
           "ticks": "",
           "title": {
            "standoff": 15
           },
           "zerolinecolor": "white",
           "zerolinewidth": 2
          },
          "yaxis": {
           "automargin": true,
           "gridcolor": "white",
           "linecolor": "white",
           "ticks": "",
           "title": {
            "standoff": 15
           },
           "zerolinecolor": "white",
           "zerolinewidth": 2
          }
         }
        },
        "title": {
         "text": "number of airports per country"
        }
       }
      },
      "text/html": [
       "<div>                            <div id=\"8d088f2c-6d12-48d1-95c7-ab4a376dec45\" class=\"plotly-graph-div\" style=\"height:525px; width:100%;\"></div>            <script type=\"text/javascript\">                require([\"plotly\"], function(Plotly) {                    window.PLOTLYENV=window.PLOTLYENV || {};                                    if (document.getElementById(\"8d088f2c-6d12-48d1-95c7-ab4a376dec45\")) {                    Plotly.newPlot(                        \"8d088f2c-6d12-48d1-95c7-ab4a376dec45\",                        [{\"coloraxis\":\"coloraxis\",\"geo\":\"geo\",\"hovertemplate\":\"<b>%{hovertext}</b><br><br>name=%{location}<br>number_of_airports=%{z}<extra></extra>\",\"hovertext\":[3.0,116.0,74.0,4.0,2.0,14.0,16.0,111.0,39.0,883.0,4.0,146.0,2054.0,3.0,39.0,18.0,2.0,38.0,177.0,51.0,144.0,11.0,7.0,10.0,1.0,3.0,15.0,199.0,4.0,5970.0,74.0,10.0,132.0,58.0,34.0,2854.0,1.0,292.0,47.0,56.0,87.0,30.0,10.0,480.0,39.0,469.0,709.0,134.0,141.0,10.0,1.0,1.0,55.0,288.0,974.0,11.0,128.0,2.0,39.0,71.0,123.0,40.0,78.0,20.0,9.0,468.0,61.0,117.0,34.0,39.0,6.0,16.0,959.0,39.0,1332.0,3.0,31.0,16.0,3.0,17.0,1.0,84.0,1.0,16.0,6.0,7.0,115.0,1.0,58.0,4.0,7.0,48.0,87.0,159.0,61.0,20.0,122.0,491.0,114.0,46.0,6.0,540.0,1.0,80.0,153.0,86.0,825.0,1.0,26.0,17.0,2580.0,376.0,54.0,17.0,22.0,4.0,2.0,94.0,1378.0,21.0,10.0,150.0,20.0,11.0,2.0,2.0,37.0,18.0,33.0,65.0,9.0,77.0,66.0,35.0,3.0,11.0,7.0,2.0,84.0,35.0,15.0,32.0,80.0,30.0,4.0,11.0,4.0,27.0,2.0,7.0,4.0,27.0,29.0,1817.0,111.0,96.0,0.0,22.0,23.0,1.0,63.0,33.0,122.0,249.0,50.0,1.0,1.0,212.0,32.0,79.0,175.0,55.0,599.0,535.0,162.0,324.0,2.0,0.0,64.0,7.0,221.0,3.0,69.0,16.0,2.0,64.0,44.0,1352.0,9.0,91.0,38.0,21.0,38.0,240.0,10.0,4.0,42.0,113.0,12.0,2.0,20.0,38.0,51.0,65.0,4.0,27.0,1.0,31.0,16.0,8.0,37.0,7.0,7.0,85.0,18.0,0.0,13.0,46.0,16.0,6.0,203.0,3.0,3.0,79.0,209.0,230.0,37.0,8.0,27261.0,54.0,177.0,1.0,6.0,599.0,5.0,9.0,55.0,36.0,2.0,5.0,7.0,29.0,1.0,837.0,103.0,144.0,0.0],\"locationmode\":\"country names\",\"locations\":[\"Andorra\",\"United Arab Emirates\",\"Afghanistan\",\"Antigua and Barbuda\",\"Anguilla\",\"Albania\",\"Armenia\",\"Angola\",\"Antarctica\",\"Argentina\",\"American Samoa\",\"Austria\",\"Australia\",\"Aruba\",\"Azerbaijan\",\"Bosnia and Herzegovina\",\"Barbados\",\"Bangladesh\",\"Belgium\",\"Burkina Faso\",\"Bulgaria\",\"Bahrain\",\"Burundi\",\"Benin\",\"Saint Barth\\u00e9lemy\",\"Bermuda\",\"Brunei\",\"Bolivia\",\"Caribbean Netherlands\",\"Brazil\",\"Bahamas\",\"Bhutan\",\"Botswana\",\"Belarus\",\"Belize\",\"Canada\",\"Cocos (Keeling) Islands\",\"Congo (Kinshasa)\",\"Central African Republic\",\"Congo (Brazzaville)\",\"Switzerland\",\"C\\u00f4te d'Ivoire\",\"Cook Islands\",\"Chile\",\"Cameroon\",\"China\",\"Colombia\",\"Costa Rica\",\"Cuba\",\"Cape Verde\",\"Cura\\u00e7ao\",\"Christmas Island\",\"Cyprus\",\"Czech Republic\",\"Germany\",\"Djibouti\",\"Denmark\",\"Dominica\",\"Dominican Republic\",\"Algeria\",\"Ecuador\",\"Estonia\",\"Egypt\",\"Western Sahara\",\"Eritrea\",\"Spain\",\"Ethiopia\",\"Finland\",\"Fiji\",\"Falkland Islands\",\"Micronesia\",\"Faroe Islands\",\"France\",\"Gabon\",\"United Kingdom\",\"Grenada\",\"Georgia\",\"French Guiana\",\"Guernsey\",\"Ghana\",\"Gibraltar\",\"Greenland\",\"Gambia\",\"Guinea\",\"Guadeloupe\",\"Equatorial Guinea\",\"Greece\",\"South Georgia and the South Sandwich Islands\",\"Guatemala\",\"Guam\",\"Guinea-Bissau\",\"Guyana\",\"Hong Kong\",\"Honduras\",\"Croatia\",\"Haiti\",\"Hungary\",\"Indonesia\",\"Ireland\",\"Israel\",\"Isle of Man\",\"India\",\"British Indian Ocean Territory\",\"Iraq\",\"Iran\",\"Iceland\",\"Italy\",\"Jersey\",\"Jamaica\",\"Jordan\",\"Japan\",\"Kenya\",\"Kyrgyzstan\",\"Cambodia\",\"Kiribati\",\"Comoros\",\"Saint Kitts and Nevis\",\"North Korea\",\"South Korea\",\"Kuwait\",\"Cayman Islands\",\"Kazakhstan\",\"Laos\",\"Lebanon\",\"Saint Lucia\",\"Liechtenstein\",\"Sri Lanka\",\"Liberia\",\"Lesotho\",\"Lithuania\",\"Luxembourg\",\"Latvia\",\"Libya\",\"Morocco\",\"Monaco\",\"Moldova\",\"Montenegro\",\"Saint Martin\",\"Madagascar\",\"Marshall Islands\",\"North Macedonia\",\"Mali\",\"Burma\",\"Mongolia\",\"Macau\",\"Northern Mariana Islands\",\"Martinique\",\"Mauritania\",\"Montserrat\",\"Malta\",\"Mauritius\",\"Maldives\",\"Malawi\",\"Mexico\",\"Malaysia\",\"Mozambique\",\"Namibia\",\"New Caledonia\",\"Niger\",\"Norfolk Island\",\"Nigeria\",\"Nicaragua\",\"Netherlands\",\"Norway\",\"Nepal\",\"Nauru\",\"Niue\",\"New Zealand\",\"Oman\",\"Panama\",\"Peru\",\"French Polynesia\",\"Papua New Guinea\",\"Philippines\",\"Pakistan\",\"Poland\",\"Saint Pierre and Miquelon\",\"Pitcairn\",\"Puerto Rico\",\"Palestinian Territory\",\"Portugal\",\"Palau\",\"Paraguay\",\"Qatar\",\"R\\u00e9union\",\"Romania\",\"Serbia\",\"Russia\",\"Rwanda\",\"Saudi Arabia\",\"Solomon Islands\",\"Seychelles\",\"Sudan\",\"Sweden\",\"Singapore\",\"Saint Helena\",\"Slovenia\",\"Slovakia\",\"Sierra Leone\",\"San Marino\",\"Senegal\",\"Somalia\",\"Suriname\",\"South Sudan\",\"S\\u00e3o Tom\\u00e9 and Principe\",\"El Salvador\",\"Sint Maarten\",\"Syria\",\"Eswatini\",\"Turks and Caicos Islands\",\"Chad\",\"French Southern Territories\",\"Togo\",\"Thailand\",\"Tajikistan\",\"Tokelau\",\"Timor-Leste\",\"Turkmenistan\",\"Tunisia\",\"Tonga\",\"Turkey\",\"Trinidad and Tobago\",\"Tuvalu\",\"Taiwan\",\"Tanzania\",\"Ukraine\",\"Uganda\",\"United States Minor Outlying Islands\",\"United States\",\"Uruguay\",\"Uzbekistan\",\"Vatican City\",\"Saint Vincent and the Grenadines\",\"Venezuela\",\"British Virgin Islands\",\"U.S. Virgin Islands\",\"Vietnam\",\"Vanuatu\",\"Wallis and Futuna\",\"Samoa\",\"Kosovo\",\"Yemen\",\"Mayotte\",\"South Africa\",\"Zambia\",\"Zimbabwe\",\"Unknown or unassigned country\"],\"name\":\"\",\"z\":[3.0,116.0,74.0,4.0,2.0,14.0,16.0,111.0,39.0,883.0,4.0,146.0,2054.0,3.0,39.0,18.0,2.0,38.0,177.0,51.0,144.0,11.0,7.0,10.0,1.0,3.0,15.0,199.0,4.0,5970.0,74.0,10.0,132.0,58.0,34.0,2854.0,1.0,292.0,47.0,56.0,87.0,30.0,10.0,480.0,39.0,469.0,709.0,134.0,141.0,10.0,1.0,1.0,55.0,288.0,974.0,11.0,128.0,2.0,39.0,71.0,123.0,40.0,78.0,20.0,9.0,468.0,61.0,117.0,34.0,39.0,6.0,16.0,959.0,39.0,1332.0,3.0,31.0,16.0,3.0,17.0,1.0,84.0,1.0,16.0,6.0,7.0,115.0,1.0,58.0,4.0,7.0,48.0,87.0,159.0,61.0,20.0,122.0,491.0,114.0,46.0,6.0,540.0,1.0,80.0,153.0,86.0,825.0,1.0,26.0,17.0,2580.0,376.0,54.0,17.0,22.0,4.0,2.0,94.0,1378.0,21.0,10.0,150.0,20.0,11.0,2.0,2.0,37.0,18.0,33.0,65.0,9.0,77.0,66.0,35.0,3.0,11.0,7.0,2.0,84.0,35.0,15.0,32.0,80.0,30.0,4.0,11.0,4.0,27.0,2.0,7.0,4.0,27.0,29.0,1817.0,111.0,96.0,0.0,22.0,23.0,1.0,63.0,33.0,122.0,249.0,50.0,1.0,1.0,212.0,32.0,79.0,175.0,55.0,599.0,535.0,162.0,324.0,2.0,0.0,64.0,7.0,221.0,3.0,69.0,16.0,2.0,64.0,44.0,1352.0,9.0,91.0,38.0,21.0,38.0,240.0,10.0,4.0,42.0,113.0,12.0,2.0,20.0,38.0,51.0,65.0,4.0,27.0,1.0,31.0,16.0,8.0,37.0,7.0,7.0,85.0,18.0,0.0,13.0,46.0,16.0,6.0,203.0,3.0,3.0,79.0,209.0,230.0,37.0,8.0,27261.0,54.0,177.0,1.0,6.0,599.0,5.0,9.0,55.0,36.0,2.0,5.0,7.0,29.0,1.0,837.0,103.0,144.0,0.0],\"type\":\"choropleth\"}],                        {\"template\":{\"data\":{\"bar\":[{\"error_x\":{\"color\":\"#2a3f5f\"},\"error_y\":{\"color\":\"#2a3f5f\"},\"marker\":{\"line\":{\"color\":\"#E5ECF6\",\"width\":0.5},\"pattern\":{\"fillmode\":\"overlay\",\"size\":10,\"solidity\":0.2}},\"type\":\"bar\"}],\"barpolar\":[{\"marker\":{\"line\":{\"color\":\"#E5ECF6\",\"width\":0.5},\"pattern\":{\"fillmode\":\"overlay\",\"size\":10,\"solidity\":0.2}},\"type\":\"barpolar\"}],\"carpet\":[{\"aaxis\":{\"endlinecolor\":\"#2a3f5f\",\"gridcolor\":\"white\",\"linecolor\":\"white\",\"minorgridcolor\":\"white\",\"startlinecolor\":\"#2a3f5f\"},\"baxis\":{\"endlinecolor\":\"#2a3f5f\",\"gridcolor\":\"white\",\"linecolor\":\"white\",\"minorgridcolor\":\"white\",\"startlinecolor\":\"#2a3f5f\"},\"type\":\"carpet\"}],\"choropleth\":[{\"colorbar\":{\"outlinewidth\":0,\"ticks\":\"\"},\"type\":\"choropleth\"}],\"contour\":[{\"colorbar\":{\"outlinewidth\":0,\"ticks\":\"\"},\"colorscale\":[[0.0,\"#0d0887\"],[0.1111111111111111,\"#46039f\"],[0.2222222222222222,\"#7201a8\"],[0.3333333333333333,\"#9c179e\"],[0.4444444444444444,\"#bd3786\"],[0.5555555555555556,\"#d8576b\"],[0.6666666666666666,\"#ed7953\"],[0.7777777777777778,\"#fb9f3a\"],[0.8888888888888888,\"#fdca26\"],[1.0,\"#f0f921\"]],\"type\":\"contour\"}],\"contourcarpet\":[{\"colorbar\":{\"outlinewidth\":0,\"ticks\":\"\"},\"type\":\"contourcarpet\"}],\"heatmap\":[{\"colorbar\":{\"outlinewidth\":0,\"ticks\":\"\"},\"colorscale\":[[0.0,\"#0d0887\"],[0.1111111111111111,\"#46039f\"],[0.2222222222222222,\"#7201a8\"],[0.3333333333333333,\"#9c179e\"],[0.4444444444444444,\"#bd3786\"],[0.5555555555555556,\"#d8576b\"],[0.6666666666666666,\"#ed7953\"],[0.7777777777777778,\"#fb9f3a\"],[0.8888888888888888,\"#fdca26\"],[1.0,\"#f0f921\"]],\"type\":\"heatmap\"}],\"heatmapgl\":[{\"colorbar\":{\"outlinewidth\":0,\"ticks\":\"\"},\"colorscale\":[[0.0,\"#0d0887\"],[0.1111111111111111,\"#46039f\"],[0.2222222222222222,\"#7201a8\"],[0.3333333333333333,\"#9c179e\"],[0.4444444444444444,\"#bd3786\"],[0.5555555555555556,\"#d8576b\"],[0.6666666666666666,\"#ed7953\"],[0.7777777777777778,\"#fb9f3a\"],[0.8888888888888888,\"#fdca26\"],[1.0,\"#f0f921\"]],\"type\":\"heatmapgl\"}],\"histogram\":[{\"marker\":{\"pattern\":{\"fillmode\":\"overlay\",\"size\":10,\"solidity\":0.2}},\"type\":\"histogram\"}],\"histogram2d\":[{\"colorbar\":{\"outlinewidth\":0,\"ticks\":\"\"},\"colorscale\":[[0.0,\"#0d0887\"],[0.1111111111111111,\"#46039f\"],[0.2222222222222222,\"#7201a8\"],[0.3333333333333333,\"#9c179e\"],[0.4444444444444444,\"#bd3786\"],[0.5555555555555556,\"#d8576b\"],[0.6666666666666666,\"#ed7953\"],[0.7777777777777778,\"#fb9f3a\"],[0.8888888888888888,\"#fdca26\"],[1.0,\"#f0f921\"]],\"type\":\"histogram2d\"}],\"histogram2dcontour\":[{\"colorbar\":{\"outlinewidth\":0,\"ticks\":\"\"},\"colorscale\":[[0.0,\"#0d0887\"],[0.1111111111111111,\"#46039f\"],[0.2222222222222222,\"#7201a8\"],[0.3333333333333333,\"#9c179e\"],[0.4444444444444444,\"#bd3786\"],[0.5555555555555556,\"#d8576b\"],[0.6666666666666666,\"#ed7953\"],[0.7777777777777778,\"#fb9f3a\"],[0.8888888888888888,\"#fdca26\"],[1.0,\"#f0f921\"]],\"type\":\"histogram2dcontour\"}],\"mesh3d\":[{\"colorbar\":{\"outlinewidth\":0,\"ticks\":\"\"},\"type\":\"mesh3d\"}],\"parcoords\":[{\"line\":{\"colorbar\":{\"outlinewidth\":0,\"ticks\":\"\"}},\"type\":\"parcoords\"}],\"pie\":[{\"automargin\":true,\"type\":\"pie\"}],\"scatter\":[{\"marker\":{\"colorbar\":{\"outlinewidth\":0,\"ticks\":\"\"}},\"type\":\"scatter\"}],\"scatter3d\":[{\"line\":{\"colorbar\":{\"outlinewidth\":0,\"ticks\":\"\"}},\"marker\":{\"colorbar\":{\"outlinewidth\":0,\"ticks\":\"\"}},\"type\":\"scatter3d\"}],\"scattercarpet\":[{\"marker\":{\"colorbar\":{\"outlinewidth\":0,\"ticks\":\"\"}},\"type\":\"scattercarpet\"}],\"scattergeo\":[{\"marker\":{\"colorbar\":{\"outlinewidth\":0,\"ticks\":\"\"}},\"type\":\"scattergeo\"}],\"scattergl\":[{\"marker\":{\"colorbar\":{\"outlinewidth\":0,\"ticks\":\"\"}},\"type\":\"scattergl\"}],\"scattermapbox\":[{\"marker\":{\"colorbar\":{\"outlinewidth\":0,\"ticks\":\"\"}},\"type\":\"scattermapbox\"}],\"scatterpolar\":[{\"marker\":{\"colorbar\":{\"outlinewidth\":0,\"ticks\":\"\"}},\"type\":\"scatterpolar\"}],\"scatterpolargl\":[{\"marker\":{\"colorbar\":{\"outlinewidth\":0,\"ticks\":\"\"}},\"type\":\"scatterpolargl\"}],\"scatterternary\":[{\"marker\":{\"colorbar\":{\"outlinewidth\":0,\"ticks\":\"\"}},\"type\":\"scatterternary\"}],\"surface\":[{\"colorbar\":{\"outlinewidth\":0,\"ticks\":\"\"},\"colorscale\":[[0.0,\"#0d0887\"],[0.1111111111111111,\"#46039f\"],[0.2222222222222222,\"#7201a8\"],[0.3333333333333333,\"#9c179e\"],[0.4444444444444444,\"#bd3786\"],[0.5555555555555556,\"#d8576b\"],[0.6666666666666666,\"#ed7953\"],[0.7777777777777778,\"#fb9f3a\"],[0.8888888888888888,\"#fdca26\"],[1.0,\"#f0f921\"]],\"type\":\"surface\"}],\"table\":[{\"cells\":{\"fill\":{\"color\":\"#EBF0F8\"},\"line\":{\"color\":\"white\"}},\"header\":{\"fill\":{\"color\":\"#C8D4E3\"},\"line\":{\"color\":\"white\"}},\"type\":\"table\"}]},\"layout\":{\"annotationdefaults\":{\"arrowcolor\":\"#2a3f5f\",\"arrowhead\":0,\"arrowwidth\":1},\"autotypenumbers\":\"strict\",\"coloraxis\":{\"colorbar\":{\"outlinewidth\":0,\"ticks\":\"\"}},\"colorscale\":{\"diverging\":[[0,\"#8e0152\"],[0.1,\"#c51b7d\"],[0.2,\"#de77ae\"],[0.3,\"#f1b6da\"],[0.4,\"#fde0ef\"],[0.5,\"#f7f7f7\"],[0.6,\"#e6f5d0\"],[0.7,\"#b8e186\"],[0.8,\"#7fbc41\"],[0.9,\"#4d9221\"],[1,\"#276419\"]],\"sequential\":[[0.0,\"#0d0887\"],[0.1111111111111111,\"#46039f\"],[0.2222222222222222,\"#7201a8\"],[0.3333333333333333,\"#9c179e\"],[0.4444444444444444,\"#bd3786\"],[0.5555555555555556,\"#d8576b\"],[0.6666666666666666,\"#ed7953\"],[0.7777777777777778,\"#fb9f3a\"],[0.8888888888888888,\"#fdca26\"],[1.0,\"#f0f921\"]],\"sequentialminus\":[[0.0,\"#0d0887\"],[0.1111111111111111,\"#46039f\"],[0.2222222222222222,\"#7201a8\"],[0.3333333333333333,\"#9c179e\"],[0.4444444444444444,\"#bd3786\"],[0.5555555555555556,\"#d8576b\"],[0.6666666666666666,\"#ed7953\"],[0.7777777777777778,\"#fb9f3a\"],[0.8888888888888888,\"#fdca26\"],[1.0,\"#f0f921\"]]},\"colorway\":[\"#636efa\",\"#EF553B\",\"#00cc96\",\"#ab63fa\",\"#FFA15A\",\"#19d3f3\",\"#FF6692\",\"#B6E880\",\"#FF97FF\",\"#FECB52\"],\"font\":{\"color\":\"#2a3f5f\"},\"geo\":{\"bgcolor\":\"white\",\"lakecolor\":\"white\",\"landcolor\":\"#E5ECF6\",\"showlakes\":true,\"showland\":true,\"subunitcolor\":\"white\"},\"hoverlabel\":{\"align\":\"left\"},\"hovermode\":\"closest\",\"mapbox\":{\"style\":\"light\"},\"paper_bgcolor\":\"white\",\"plot_bgcolor\":\"#E5ECF6\",\"polar\":{\"angularaxis\":{\"gridcolor\":\"white\",\"linecolor\":\"white\",\"ticks\":\"\"},\"bgcolor\":\"#E5ECF6\",\"radialaxis\":{\"gridcolor\":\"white\",\"linecolor\":\"white\",\"ticks\":\"\"}},\"scene\":{\"xaxis\":{\"backgroundcolor\":\"#E5ECF6\",\"gridcolor\":\"white\",\"gridwidth\":2,\"linecolor\":\"white\",\"showbackground\":true,\"ticks\":\"\",\"zerolinecolor\":\"white\"},\"yaxis\":{\"backgroundcolor\":\"#E5ECF6\",\"gridcolor\":\"white\",\"gridwidth\":2,\"linecolor\":\"white\",\"showbackground\":true,\"ticks\":\"\",\"zerolinecolor\":\"white\"},\"zaxis\":{\"backgroundcolor\":\"#E5ECF6\",\"gridcolor\":\"white\",\"gridwidth\":2,\"linecolor\":\"white\",\"showbackground\":true,\"ticks\":\"\",\"zerolinecolor\":\"white\"}},\"shapedefaults\":{\"line\":{\"color\":\"#2a3f5f\"}},\"ternary\":{\"aaxis\":{\"gridcolor\":\"white\",\"linecolor\":\"white\",\"ticks\":\"\"},\"baxis\":{\"gridcolor\":\"white\",\"linecolor\":\"white\",\"ticks\":\"\"},\"bgcolor\":\"#E5ECF6\",\"caxis\":{\"gridcolor\":\"white\",\"linecolor\":\"white\",\"ticks\":\"\"}},\"title\":{\"x\":0.05},\"xaxis\":{\"automargin\":true,\"gridcolor\":\"white\",\"linecolor\":\"white\",\"ticks\":\"\",\"title\":{\"standoff\":15},\"zerolinecolor\":\"white\",\"zerolinewidth\":2},\"yaxis\":{\"automargin\":true,\"gridcolor\":\"white\",\"linecolor\":\"white\",\"ticks\":\"\",\"title\":{\"standoff\":15},\"zerolinecolor\":\"white\",\"zerolinewidth\":2}}},\"geo\":{\"domain\":{\"x\":[0.0,1.0],\"y\":[0.0,1.0]},\"center\":{}},\"coloraxis\":{\"colorbar\":{\"title\":{\"text\":\"number_of_airports\"}},\"colorscale\":[[0.0,\"#0d0887\"],[0.1111111111111111,\"#46039f\"],[0.2222222222222222,\"#7201a8\"],[0.3333333333333333,\"#9c179e\"],[0.4444444444444444,\"#bd3786\"],[0.5555555555555556,\"#d8576b\"],[0.6666666666666666,\"#ed7953\"],[0.7777777777777778,\"#fb9f3a\"],[0.8888888888888888,\"#fdca26\"],[1.0,\"#f0f921\"]]},\"legend\":{\"tracegroupgap\":0},\"title\":{\"text\":\"number of airports per country\"}},                        {\"responsive\": true}                    ).then(function(){\n",
       "                            \n",
       "var gd = document.getElementById('8d088f2c-6d12-48d1-95c7-ab4a376dec45');\n",
       "var x = new MutationObserver(function (mutations, observer) {{\n",
       "        var display = window.getComputedStyle(gd).display;\n",
       "        if (!display || display === 'none') {{\n",
       "            console.log([gd, 'removed!']);\n",
       "            Plotly.purge(gd);\n",
       "            observer.disconnect();\n",
       "        }}\n",
       "}});\n",
       "\n",
       "// Listen for the removal of the full notebook cells\n",
       "var notebookContainer = gd.closest('#notebook-container');\n",
       "if (notebookContainer) {{\n",
       "    x.observe(notebookContainer, {childList: true});\n",
       "}}\n",
       "\n",
       "// Listen for the clearing of the current output cell\n",
       "var outputEl = gd.closest('.output');\n",
       "if (outputEl) {{\n",
       "    x.observe(outputEl, {childList: true});\n",
       "}}\n",
       "\n",
       "                        })                };                });            </script>        </div>"
      ]
     },
     "metadata": {},
     "output_type": "display_data"
    }
   ],
   "source": [
    "px.choropleth(df_countries, locations=\"name\", \n",
    "                    locationmode='country names', color=\"number_of_airports\", \n",
    "                    hover_name=\"number_of_airports\", \n",
    "                    color_continuous_scale=px.colors.sequential.Plasma,\n",
    "                    title='number of airports per country'\n",
    ")"
   ]
  },
  {
   "cell_type": "markdown",
   "id": "5e12ca6a",
   "metadata": {},
   "source": [
    "### 9. Informar el número de medium airports por país en un mapa"
   ]
  },
  {
   "cell_type": "code",
   "execution_count": 53,
   "id": "85e51c86",
   "metadata": {},
   "outputs": [
    {
     "data": {
      "application/vnd.plotly.v1+json": {
       "config": {
        "plotlyServerURL": "https://plot.ly"
       },
       "data": [
        {
         "coloraxis": "coloraxis",
         "geo": "geo",
         "hovertemplate": "<b>%{hovertext}</b><br><br>name=%{location}<br>number_of_medium_airports=%{z}<extra></extra>",
         "hovertext": [
          0,
          7,
          9,
          1,
          1,
          2,
          2,
          20,
          8,
          69,
          2,
          7,
          185,
          0,
          12,
          3,
          1,
          8,
          9,
          1,
          6,
          1,
          1,
          1,
          1,
          1,
          0,
          16,
          1,
          120,
          27,
          2,
          6,
          10,
          10,
          322,
          1,
          21,
          2,
          6,
          11,
          7,
          0,
          32,
          10,
          263,
          59,
          16,
          23,
          5,
          0,
          1,
          2,
          11,
          59,
          1,
          14,
          2,
          8,
          35,
          14,
          5,
          27,
          3,
          3,
          42,
          13,
          31,
          3,
          2,
          4,
          1,
          133,
          11,
          79,
          1,
          10,
          2,
          1,
          4,
          1,
          6,
          1,
          1,
          1,
          2,
          25,
          0,
          6,
          1,
          1,
          4,
          1,
          8,
          7,
          6,
          9,
          53,
          8,
          7,
          1,
          109,
          1,
          29,
          58,
          8,
          62,
          1,
          4,
          3,
          94,
          15,
          5,
          3,
          4,
          3,
          2,
          17,
          15,
          2,
          2,
          23,
          5,
          3,
          1,
          0,
          8,
          1,
          1,
          6,
          0,
          5,
          13,
          15,
          0,
          5,
          1,
          1,
          22,
          2,
          1,
          4,
          20,
          10,
          0,
          3,
          0,
          2,
          1,
          0,
          1,
          6,
          6,
          55,
          27,
          14,
          0,
          10,
          4,
          1,
          22,
          3,
          13,
          39,
          7,
          1,
          1,
          35,
          5,
          7,
          29,
          26,
          20,
          49,
          38,
          22,
          2,
          0,
          5,
          0,
          27,
          1,
          5,
          2,
          1,
          21,
          3,
          252,
          2,
          32,
          1,
          1,
          8,
          47,
          5,
          1,
          3,
          6,
          4,
          0,
          8,
          4,
          0,
          3,
          2,
          1,
          0,
          7,
          1,
          4,
          3,
          0,
          2,
          38,
          6,
          0,
          4,
          5,
          10,
          3,
          44,
          2,
          1,
          18,
          10,
          28,
          3,
          2,
          702,
          4,
          5,
          0,
          5,
          47,
          1,
          2,
          19,
          3,
          2,
          1,
          1,
          11,
          1,
          67,
          7,
          8,
          0
         ],
         "locationmode": "country names",
         "locations": [
          "Andorra",
          "United Arab Emirates",
          "Afghanistan",
          "Antigua and Barbuda",
          "Anguilla",
          "Albania",
          "Armenia",
          "Angola",
          "Antarctica",
          "Argentina",
          "American Samoa",
          "Austria",
          "Australia",
          "Aruba",
          "Azerbaijan",
          "Bosnia and Herzegovina",
          "Barbados",
          "Bangladesh",
          "Belgium",
          "Burkina Faso",
          "Bulgaria",
          "Bahrain",
          "Burundi",
          "Benin",
          "Saint Barthélemy",
          "Bermuda",
          "Brunei",
          "Bolivia",
          "Caribbean Netherlands",
          "Brazil",
          "Bahamas",
          "Bhutan",
          "Botswana",
          "Belarus",
          "Belize",
          "Canada",
          "Cocos (Keeling) Islands",
          "Congo (Kinshasa)",
          "Central African Republic",
          "Congo (Brazzaville)",
          "Switzerland",
          "Côte d'Ivoire",
          "Cook Islands",
          "Chile",
          "Cameroon",
          "China",
          "Colombia",
          "Costa Rica",
          "Cuba",
          "Cape Verde",
          "Curaçao",
          "Christmas Island",
          "Cyprus",
          "Czech Republic",
          "Germany",
          "Djibouti",
          "Denmark",
          "Dominica",
          "Dominican Republic",
          "Algeria",
          "Ecuador",
          "Estonia",
          "Egypt",
          "Western Sahara",
          "Eritrea",
          "Spain",
          "Ethiopia",
          "Finland",
          "Fiji",
          "Falkland Islands",
          "Micronesia",
          "Faroe Islands",
          "France",
          "Gabon",
          "United Kingdom",
          "Grenada",
          "Georgia",
          "French Guiana",
          "Guernsey",
          "Ghana",
          "Gibraltar",
          "Greenland",
          "Gambia",
          "Guinea",
          "Guadeloupe",
          "Equatorial Guinea",
          "Greece",
          "South Georgia and the South Sandwich Islands",
          "Guatemala",
          "Guam",
          "Guinea-Bissau",
          "Guyana",
          "Hong Kong",
          "Honduras",
          "Croatia",
          "Haiti",
          "Hungary",
          "Indonesia",
          "Ireland",
          "Israel",
          "Isle of Man",
          "India",
          "British Indian Ocean Territory",
          "Iraq",
          "Iran",
          "Iceland",
          "Italy",
          "Jersey",
          "Jamaica",
          "Jordan",
          "Japan",
          "Kenya",
          "Kyrgyzstan",
          "Cambodia",
          "Kiribati",
          "Comoros",
          "Saint Kitts and Nevis",
          "North Korea",
          "South Korea",
          "Kuwait",
          "Cayman Islands",
          "Kazakhstan",
          "Laos",
          "Lebanon",
          "Saint Lucia",
          "Liechtenstein",
          "Sri Lanka",
          "Liberia",
          "Lesotho",
          "Lithuania",
          "Luxembourg",
          "Latvia",
          "Libya",
          "Morocco",
          "Monaco",
          "Moldova",
          "Montenegro",
          "Saint Martin",
          "Madagascar",
          "Marshall Islands",
          "North Macedonia",
          "Mali",
          "Burma",
          "Mongolia",
          "Macau",
          "Northern Mariana Islands",
          "Martinique",
          "Mauritania",
          "Montserrat",
          "Malta",
          "Mauritius",
          "Maldives",
          "Malawi",
          "Mexico",
          "Malaysia",
          "Mozambique",
          "Namibia",
          "New Caledonia",
          "Niger",
          "Norfolk Island",
          "Nigeria",
          "Nicaragua",
          "Netherlands",
          "Norway",
          "Nepal",
          "Nauru",
          "Niue",
          "New Zealand",
          "Oman",
          "Panama",
          "Peru",
          "French Polynesia",
          "Papua New Guinea",
          "Philippines",
          "Pakistan",
          "Poland",
          "Saint Pierre and Miquelon",
          "Pitcairn",
          "Puerto Rico",
          "Palestinian Territory",
          "Portugal",
          "Palau",
          "Paraguay",
          "Qatar",
          "Réunion",
          "Romania",
          "Serbia",
          "Russia",
          "Rwanda",
          "Saudi Arabia",
          "Solomon Islands",
          "Seychelles",
          "Sudan",
          "Sweden",
          "Singapore",
          "Saint Helena",
          "Slovenia",
          "Slovakia",
          "Sierra Leone",
          "San Marino",
          "Senegal",
          "Somalia",
          "Suriname",
          "South Sudan",
          "São Tomé and Principe",
          "El Salvador",
          "Sint Maarten",
          "Syria",
          "Eswatini",
          "Turks and Caicos Islands",
          "Chad",
          "French Southern Territories",
          "Togo",
          "Thailand",
          "Tajikistan",
          "Tokelau",
          "Timor-Leste",
          "Turkmenistan",
          "Tunisia",
          "Tonga",
          "Turkey",
          "Trinidad and Tobago",
          "Tuvalu",
          "Taiwan",
          "Tanzania",
          "Ukraine",
          "Uganda",
          "United States Minor Outlying Islands",
          "United States",
          "Uruguay",
          "Uzbekistan",
          "Vatican City",
          "Saint Vincent and the Grenadines",
          "Venezuela",
          "British Virgin Islands",
          "U.S. Virgin Islands",
          "Vietnam",
          "Vanuatu",
          "Wallis and Futuna",
          "Samoa",
          "Kosovo",
          "Yemen",
          "Mayotte",
          "South Africa",
          "Zambia",
          "Zimbabwe",
          "Unknown or unassigned country"
         ],
         "name": "",
         "type": "choropleth",
         "z": [
          0,
          7,
          9,
          1,
          1,
          2,
          2,
          20,
          8,
          69,
          2,
          7,
          185,
          0,
          12,
          3,
          1,
          8,
          9,
          1,
          6,
          1,
          1,
          1,
          1,
          1,
          0,
          16,
          1,
          120,
          27,
          2,
          6,
          10,
          10,
          322,
          1,
          21,
          2,
          6,
          11,
          7,
          0,
          32,
          10,
          263,
          59,
          16,
          23,
          5,
          0,
          1,
          2,
          11,
          59,
          1,
          14,
          2,
          8,
          35,
          14,
          5,
          27,
          3,
          3,
          42,
          13,
          31,
          3,
          2,
          4,
          1,
          133,
          11,
          79,
          1,
          10,
          2,
          1,
          4,
          1,
          6,
          1,
          1,
          1,
          2,
          25,
          0,
          6,
          1,
          1,
          4,
          1,
          8,
          7,
          6,
          9,
          53,
          8,
          7,
          1,
          109,
          1,
          29,
          58,
          8,
          62,
          1,
          4,
          3,
          94,
          15,
          5,
          3,
          4,
          3,
          2,
          17,
          15,
          2,
          2,
          23,
          5,
          3,
          1,
          0,
          8,
          1,
          1,
          6,
          0,
          5,
          13,
          15,
          0,
          5,
          1,
          1,
          22,
          2,
          1,
          4,
          20,
          10,
          0,
          3,
          0,
          2,
          1,
          0,
          1,
          6,
          6,
          55,
          27,
          14,
          0,
          10,
          4,
          1,
          22,
          3,
          13,
          39,
          7,
          1,
          1,
          35,
          5,
          7,
          29,
          26,
          20,
          49,
          38,
          22,
          2,
          0,
          5,
          0,
          27,
          1,
          5,
          2,
          1,
          21,
          3,
          252,
          2,
          32,
          1,
          1,
          8,
          47,
          5,
          1,
          3,
          6,
          4,
          0,
          8,
          4,
          0,
          3,
          2,
          1,
          0,
          7,
          1,
          4,
          3,
          0,
          2,
          38,
          6,
          0,
          4,
          5,
          10,
          3,
          44,
          2,
          1,
          18,
          10,
          28,
          3,
          2,
          702,
          4,
          5,
          0,
          5,
          47,
          1,
          2,
          19,
          3,
          2,
          1,
          1,
          11,
          1,
          67,
          7,
          8,
          0
         ]
        }
       ],
       "layout": {
        "coloraxis": {
         "colorbar": {
          "title": {
           "text": "number_of_medium_airports"
          }
         },
         "colorscale": [
          [
           0,
           "#440154"
          ],
          [
           0.1111111111111111,
           "#482878"
          ],
          [
           0.2222222222222222,
           "#3e4989"
          ],
          [
           0.3333333333333333,
           "#31688e"
          ],
          [
           0.4444444444444444,
           "#26828e"
          ],
          [
           0.5555555555555556,
           "#1f9e89"
          ],
          [
           0.6666666666666666,
           "#35b779"
          ],
          [
           0.7777777777777778,
           "#6ece58"
          ],
          [
           0.8888888888888888,
           "#b5de2b"
          ],
          [
           1,
           "#fde725"
          ]
         ]
        },
        "geo": {
         "center": {},
         "domain": {
          "x": [
           0,
           1
          ],
          "y": [
           0,
           1
          ]
         }
        },
        "legend": {
         "tracegroupgap": 0
        },
        "template": {
         "data": {
          "bar": [
           {
            "error_x": {
             "color": "#2a3f5f"
            },
            "error_y": {
             "color": "#2a3f5f"
            },
            "marker": {
             "line": {
              "color": "#E5ECF6",
              "width": 0.5
             },
             "pattern": {
              "fillmode": "overlay",
              "size": 10,
              "solidity": 0.2
             }
            },
            "type": "bar"
           }
          ],
          "barpolar": [
           {
            "marker": {
             "line": {
              "color": "#E5ECF6",
              "width": 0.5
             },
             "pattern": {
              "fillmode": "overlay",
              "size": 10,
              "solidity": 0.2
             }
            },
            "type": "barpolar"
           }
          ],
          "carpet": [
           {
            "aaxis": {
             "endlinecolor": "#2a3f5f",
             "gridcolor": "white",
             "linecolor": "white",
             "minorgridcolor": "white",
             "startlinecolor": "#2a3f5f"
            },
            "baxis": {
             "endlinecolor": "#2a3f5f",
             "gridcolor": "white",
             "linecolor": "white",
             "minorgridcolor": "white",
             "startlinecolor": "#2a3f5f"
            },
            "type": "carpet"
           }
          ],
          "choropleth": [
           {
            "colorbar": {
             "outlinewidth": 0,
             "ticks": ""
            },
            "type": "choropleth"
           }
          ],
          "contour": [
           {
            "colorbar": {
             "outlinewidth": 0,
             "ticks": ""
            },
            "colorscale": [
             [
              0,
              "#0d0887"
             ],
             [
              0.1111111111111111,
              "#46039f"
             ],
             [
              0.2222222222222222,
              "#7201a8"
             ],
             [
              0.3333333333333333,
              "#9c179e"
             ],
             [
              0.4444444444444444,
              "#bd3786"
             ],
             [
              0.5555555555555556,
              "#d8576b"
             ],
             [
              0.6666666666666666,
              "#ed7953"
             ],
             [
              0.7777777777777778,
              "#fb9f3a"
             ],
             [
              0.8888888888888888,
              "#fdca26"
             ],
             [
              1,
              "#f0f921"
             ]
            ],
            "type": "contour"
           }
          ],
          "contourcarpet": [
           {
            "colorbar": {
             "outlinewidth": 0,
             "ticks": ""
            },
            "type": "contourcarpet"
           }
          ],
          "heatmap": [
           {
            "colorbar": {
             "outlinewidth": 0,
             "ticks": ""
            },
            "colorscale": [
             [
              0,
              "#0d0887"
             ],
             [
              0.1111111111111111,
              "#46039f"
             ],
             [
              0.2222222222222222,
              "#7201a8"
             ],
             [
              0.3333333333333333,
              "#9c179e"
             ],
             [
              0.4444444444444444,
              "#bd3786"
             ],
             [
              0.5555555555555556,
              "#d8576b"
             ],
             [
              0.6666666666666666,
              "#ed7953"
             ],
             [
              0.7777777777777778,
              "#fb9f3a"
             ],
             [
              0.8888888888888888,
              "#fdca26"
             ],
             [
              1,
              "#f0f921"
             ]
            ],
            "type": "heatmap"
           }
          ],
          "heatmapgl": [
           {
            "colorbar": {
             "outlinewidth": 0,
             "ticks": ""
            },
            "colorscale": [
             [
              0,
              "#0d0887"
             ],
             [
              0.1111111111111111,
              "#46039f"
             ],
             [
              0.2222222222222222,
              "#7201a8"
             ],
             [
              0.3333333333333333,
              "#9c179e"
             ],
             [
              0.4444444444444444,
              "#bd3786"
             ],
             [
              0.5555555555555556,
              "#d8576b"
             ],
             [
              0.6666666666666666,
              "#ed7953"
             ],
             [
              0.7777777777777778,
              "#fb9f3a"
             ],
             [
              0.8888888888888888,
              "#fdca26"
             ],
             [
              1,
              "#f0f921"
             ]
            ],
            "type": "heatmapgl"
           }
          ],
          "histogram": [
           {
            "marker": {
             "pattern": {
              "fillmode": "overlay",
              "size": 10,
              "solidity": 0.2
             }
            },
            "type": "histogram"
           }
          ],
          "histogram2d": [
           {
            "colorbar": {
             "outlinewidth": 0,
             "ticks": ""
            },
            "colorscale": [
             [
              0,
              "#0d0887"
             ],
             [
              0.1111111111111111,
              "#46039f"
             ],
             [
              0.2222222222222222,
              "#7201a8"
             ],
             [
              0.3333333333333333,
              "#9c179e"
             ],
             [
              0.4444444444444444,
              "#bd3786"
             ],
             [
              0.5555555555555556,
              "#d8576b"
             ],
             [
              0.6666666666666666,
              "#ed7953"
             ],
             [
              0.7777777777777778,
              "#fb9f3a"
             ],
             [
              0.8888888888888888,
              "#fdca26"
             ],
             [
              1,
              "#f0f921"
             ]
            ],
            "type": "histogram2d"
           }
          ],
          "histogram2dcontour": [
           {
            "colorbar": {
             "outlinewidth": 0,
             "ticks": ""
            },
            "colorscale": [
             [
              0,
              "#0d0887"
             ],
             [
              0.1111111111111111,
              "#46039f"
             ],
             [
              0.2222222222222222,
              "#7201a8"
             ],
             [
              0.3333333333333333,
              "#9c179e"
             ],
             [
              0.4444444444444444,
              "#bd3786"
             ],
             [
              0.5555555555555556,
              "#d8576b"
             ],
             [
              0.6666666666666666,
              "#ed7953"
             ],
             [
              0.7777777777777778,
              "#fb9f3a"
             ],
             [
              0.8888888888888888,
              "#fdca26"
             ],
             [
              1,
              "#f0f921"
             ]
            ],
            "type": "histogram2dcontour"
           }
          ],
          "mesh3d": [
           {
            "colorbar": {
             "outlinewidth": 0,
             "ticks": ""
            },
            "type": "mesh3d"
           }
          ],
          "parcoords": [
           {
            "line": {
             "colorbar": {
              "outlinewidth": 0,
              "ticks": ""
             }
            },
            "type": "parcoords"
           }
          ],
          "pie": [
           {
            "automargin": true,
            "type": "pie"
           }
          ],
          "scatter": [
           {
            "marker": {
             "colorbar": {
              "outlinewidth": 0,
              "ticks": ""
             }
            },
            "type": "scatter"
           }
          ],
          "scatter3d": [
           {
            "line": {
             "colorbar": {
              "outlinewidth": 0,
              "ticks": ""
             }
            },
            "marker": {
             "colorbar": {
              "outlinewidth": 0,
              "ticks": ""
             }
            },
            "type": "scatter3d"
           }
          ],
          "scattercarpet": [
           {
            "marker": {
             "colorbar": {
              "outlinewidth": 0,
              "ticks": ""
             }
            },
            "type": "scattercarpet"
           }
          ],
          "scattergeo": [
           {
            "marker": {
             "colorbar": {
              "outlinewidth": 0,
              "ticks": ""
             }
            },
            "type": "scattergeo"
           }
          ],
          "scattergl": [
           {
            "marker": {
             "colorbar": {
              "outlinewidth": 0,
              "ticks": ""
             }
            },
            "type": "scattergl"
           }
          ],
          "scattermapbox": [
           {
            "marker": {
             "colorbar": {
              "outlinewidth": 0,
              "ticks": ""
             }
            },
            "type": "scattermapbox"
           }
          ],
          "scatterpolar": [
           {
            "marker": {
             "colorbar": {
              "outlinewidth": 0,
              "ticks": ""
             }
            },
            "type": "scatterpolar"
           }
          ],
          "scatterpolargl": [
           {
            "marker": {
             "colorbar": {
              "outlinewidth": 0,
              "ticks": ""
             }
            },
            "type": "scatterpolargl"
           }
          ],
          "scatterternary": [
           {
            "marker": {
             "colorbar": {
              "outlinewidth": 0,
              "ticks": ""
             }
            },
            "type": "scatterternary"
           }
          ],
          "surface": [
           {
            "colorbar": {
             "outlinewidth": 0,
             "ticks": ""
            },
            "colorscale": [
             [
              0,
              "#0d0887"
             ],
             [
              0.1111111111111111,
              "#46039f"
             ],
             [
              0.2222222222222222,
              "#7201a8"
             ],
             [
              0.3333333333333333,
              "#9c179e"
             ],
             [
              0.4444444444444444,
              "#bd3786"
             ],
             [
              0.5555555555555556,
              "#d8576b"
             ],
             [
              0.6666666666666666,
              "#ed7953"
             ],
             [
              0.7777777777777778,
              "#fb9f3a"
             ],
             [
              0.8888888888888888,
              "#fdca26"
             ],
             [
              1,
              "#f0f921"
             ]
            ],
            "type": "surface"
           }
          ],
          "table": [
           {
            "cells": {
             "fill": {
              "color": "#EBF0F8"
             },
             "line": {
              "color": "white"
             }
            },
            "header": {
             "fill": {
              "color": "#C8D4E3"
             },
             "line": {
              "color": "white"
             }
            },
            "type": "table"
           }
          ]
         },
         "layout": {
          "annotationdefaults": {
           "arrowcolor": "#2a3f5f",
           "arrowhead": 0,
           "arrowwidth": 1
          },
          "autotypenumbers": "strict",
          "coloraxis": {
           "colorbar": {
            "outlinewidth": 0,
            "ticks": ""
           }
          },
          "colorscale": {
           "diverging": [
            [
             0,
             "#8e0152"
            ],
            [
             0.1,
             "#c51b7d"
            ],
            [
             0.2,
             "#de77ae"
            ],
            [
             0.3,
             "#f1b6da"
            ],
            [
             0.4,
             "#fde0ef"
            ],
            [
             0.5,
             "#f7f7f7"
            ],
            [
             0.6,
             "#e6f5d0"
            ],
            [
             0.7,
             "#b8e186"
            ],
            [
             0.8,
             "#7fbc41"
            ],
            [
             0.9,
             "#4d9221"
            ],
            [
             1,
             "#276419"
            ]
           ],
           "sequential": [
            [
             0,
             "#0d0887"
            ],
            [
             0.1111111111111111,
             "#46039f"
            ],
            [
             0.2222222222222222,
             "#7201a8"
            ],
            [
             0.3333333333333333,
             "#9c179e"
            ],
            [
             0.4444444444444444,
             "#bd3786"
            ],
            [
             0.5555555555555556,
             "#d8576b"
            ],
            [
             0.6666666666666666,
             "#ed7953"
            ],
            [
             0.7777777777777778,
             "#fb9f3a"
            ],
            [
             0.8888888888888888,
             "#fdca26"
            ],
            [
             1,
             "#f0f921"
            ]
           ],
           "sequentialminus": [
            [
             0,
             "#0d0887"
            ],
            [
             0.1111111111111111,
             "#46039f"
            ],
            [
             0.2222222222222222,
             "#7201a8"
            ],
            [
             0.3333333333333333,
             "#9c179e"
            ],
            [
             0.4444444444444444,
             "#bd3786"
            ],
            [
             0.5555555555555556,
             "#d8576b"
            ],
            [
             0.6666666666666666,
             "#ed7953"
            ],
            [
             0.7777777777777778,
             "#fb9f3a"
            ],
            [
             0.8888888888888888,
             "#fdca26"
            ],
            [
             1,
             "#f0f921"
            ]
           ]
          },
          "colorway": [
           "#636efa",
           "#EF553B",
           "#00cc96",
           "#ab63fa",
           "#FFA15A",
           "#19d3f3",
           "#FF6692",
           "#B6E880",
           "#FF97FF",
           "#FECB52"
          ],
          "font": {
           "color": "#2a3f5f"
          },
          "geo": {
           "bgcolor": "white",
           "lakecolor": "white",
           "landcolor": "#E5ECF6",
           "showlakes": true,
           "showland": true,
           "subunitcolor": "white"
          },
          "hoverlabel": {
           "align": "left"
          },
          "hovermode": "closest",
          "mapbox": {
           "style": "light"
          },
          "paper_bgcolor": "white",
          "plot_bgcolor": "#E5ECF6",
          "polar": {
           "angularaxis": {
            "gridcolor": "white",
            "linecolor": "white",
            "ticks": ""
           },
           "bgcolor": "#E5ECF6",
           "radialaxis": {
            "gridcolor": "white",
            "linecolor": "white",
            "ticks": ""
           }
          },
          "scene": {
           "xaxis": {
            "backgroundcolor": "#E5ECF6",
            "gridcolor": "white",
            "gridwidth": 2,
            "linecolor": "white",
            "showbackground": true,
            "ticks": "",
            "zerolinecolor": "white"
           },
           "yaxis": {
            "backgroundcolor": "#E5ECF6",
            "gridcolor": "white",
            "gridwidth": 2,
            "linecolor": "white",
            "showbackground": true,
            "ticks": "",
            "zerolinecolor": "white"
           },
           "zaxis": {
            "backgroundcolor": "#E5ECF6",
            "gridcolor": "white",
            "gridwidth": 2,
            "linecolor": "white",
            "showbackground": true,
            "ticks": "",
            "zerolinecolor": "white"
           }
          },
          "shapedefaults": {
           "line": {
            "color": "#2a3f5f"
           }
          },
          "ternary": {
           "aaxis": {
            "gridcolor": "white",
            "linecolor": "white",
            "ticks": ""
           },
           "baxis": {
            "gridcolor": "white",
            "linecolor": "white",
            "ticks": ""
           },
           "bgcolor": "#E5ECF6",
           "caxis": {
            "gridcolor": "white",
            "linecolor": "white",
            "ticks": ""
           }
          },
          "title": {
           "x": 0.05
          },
          "xaxis": {
           "automargin": true,
           "gridcolor": "white",
           "linecolor": "white",
           "ticks": "",
           "title": {
            "standoff": 15
           },
           "zerolinecolor": "white",
           "zerolinewidth": 2
          },
          "yaxis": {
           "automargin": true,
           "gridcolor": "white",
           "linecolor": "white",
           "ticks": "",
           "title": {
            "standoff": 15
           },
           "zerolinecolor": "white",
           "zerolinewidth": 2
          }
         }
        },
        "title": {
         "text": "number OF MEDIUM airports per country"
        }
       }
      },
      "text/html": [
       "<div>                            <div id=\"4b07ffca-034d-4a6e-be0c-30b09c822057\" class=\"plotly-graph-div\" style=\"height:525px; width:100%;\"></div>            <script type=\"text/javascript\">                require([\"plotly\"], function(Plotly) {                    window.PLOTLYENV=window.PLOTLYENV || {};                                    if (document.getElementById(\"4b07ffca-034d-4a6e-be0c-30b09c822057\")) {                    Plotly.newPlot(                        \"4b07ffca-034d-4a6e-be0c-30b09c822057\",                        [{\"coloraxis\":\"coloraxis\",\"geo\":\"geo\",\"hovertemplate\":\"<b>%{hovertext}</b><br><br>name=%{location}<br>number_of_medium_airports=%{z}<extra></extra>\",\"hovertext\":[0.0,7.0,9.0,1.0,1.0,2.0,2.0,20.0,8.0,69.0,2.0,7.0,185.0,0.0,12.0,3.0,1.0,8.0,9.0,1.0,6.0,1.0,1.0,1.0,1.0,1.0,0.0,16.0,1.0,120.0,27.0,2.0,6.0,10.0,10.0,322.0,1.0,21.0,2.0,6.0,11.0,7.0,0.0,32.0,10.0,263.0,59.0,16.0,23.0,5.0,0.0,1.0,2.0,11.0,59.0,1.0,14.0,2.0,8.0,35.0,14.0,5.0,27.0,3.0,3.0,42.0,13.0,31.0,3.0,2.0,4.0,1.0,133.0,11.0,79.0,1.0,10.0,2.0,1.0,4.0,1.0,6.0,1.0,1.0,1.0,2.0,25.0,0.0,6.0,1.0,1.0,4.0,1.0,8.0,7.0,6.0,9.0,53.0,8.0,7.0,1.0,109.0,1.0,29.0,58.0,8.0,62.0,1.0,4.0,3.0,94.0,15.0,5.0,3.0,4.0,3.0,2.0,17.0,15.0,2.0,2.0,23.0,5.0,3.0,1.0,0.0,8.0,1.0,1.0,6.0,0.0,5.0,13.0,15.0,0.0,5.0,1.0,1.0,22.0,2.0,1.0,4.0,20.0,10.0,0.0,3.0,0.0,2.0,1.0,0.0,1.0,6.0,6.0,55.0,27.0,14.0,0.0,10.0,4.0,1.0,22.0,3.0,13.0,39.0,7.0,1.0,1.0,35.0,5.0,7.0,29.0,26.0,20.0,49.0,38.0,22.0,2.0,0.0,5.0,0.0,27.0,1.0,5.0,2.0,1.0,21.0,3.0,252.0,2.0,32.0,1.0,1.0,8.0,47.0,5.0,1.0,3.0,6.0,4.0,0.0,8.0,4.0,0.0,3.0,2.0,1.0,0.0,7.0,1.0,4.0,3.0,0.0,2.0,38.0,6.0,0.0,4.0,5.0,10.0,3.0,44.0,2.0,1.0,18.0,10.0,28.0,3.0,2.0,702.0,4.0,5.0,0.0,5.0,47.0,1.0,2.0,19.0,3.0,2.0,1.0,1.0,11.0,1.0,67.0,7.0,8.0,0.0],\"locationmode\":\"country names\",\"locations\":[\"Andorra\",\"United Arab Emirates\",\"Afghanistan\",\"Antigua and Barbuda\",\"Anguilla\",\"Albania\",\"Armenia\",\"Angola\",\"Antarctica\",\"Argentina\",\"American Samoa\",\"Austria\",\"Australia\",\"Aruba\",\"Azerbaijan\",\"Bosnia and Herzegovina\",\"Barbados\",\"Bangladesh\",\"Belgium\",\"Burkina Faso\",\"Bulgaria\",\"Bahrain\",\"Burundi\",\"Benin\",\"Saint Barth\\u00e9lemy\",\"Bermuda\",\"Brunei\",\"Bolivia\",\"Caribbean Netherlands\",\"Brazil\",\"Bahamas\",\"Bhutan\",\"Botswana\",\"Belarus\",\"Belize\",\"Canada\",\"Cocos (Keeling) Islands\",\"Congo (Kinshasa)\",\"Central African Republic\",\"Congo (Brazzaville)\",\"Switzerland\",\"C\\u00f4te d'Ivoire\",\"Cook Islands\",\"Chile\",\"Cameroon\",\"China\",\"Colombia\",\"Costa Rica\",\"Cuba\",\"Cape Verde\",\"Cura\\u00e7ao\",\"Christmas Island\",\"Cyprus\",\"Czech Republic\",\"Germany\",\"Djibouti\",\"Denmark\",\"Dominica\",\"Dominican Republic\",\"Algeria\",\"Ecuador\",\"Estonia\",\"Egypt\",\"Western Sahara\",\"Eritrea\",\"Spain\",\"Ethiopia\",\"Finland\",\"Fiji\",\"Falkland Islands\",\"Micronesia\",\"Faroe Islands\",\"France\",\"Gabon\",\"United Kingdom\",\"Grenada\",\"Georgia\",\"French Guiana\",\"Guernsey\",\"Ghana\",\"Gibraltar\",\"Greenland\",\"Gambia\",\"Guinea\",\"Guadeloupe\",\"Equatorial Guinea\",\"Greece\",\"South Georgia and the South Sandwich Islands\",\"Guatemala\",\"Guam\",\"Guinea-Bissau\",\"Guyana\",\"Hong Kong\",\"Honduras\",\"Croatia\",\"Haiti\",\"Hungary\",\"Indonesia\",\"Ireland\",\"Israel\",\"Isle of Man\",\"India\",\"British Indian Ocean Territory\",\"Iraq\",\"Iran\",\"Iceland\",\"Italy\",\"Jersey\",\"Jamaica\",\"Jordan\",\"Japan\",\"Kenya\",\"Kyrgyzstan\",\"Cambodia\",\"Kiribati\",\"Comoros\",\"Saint Kitts and Nevis\",\"North Korea\",\"South Korea\",\"Kuwait\",\"Cayman Islands\",\"Kazakhstan\",\"Laos\",\"Lebanon\",\"Saint Lucia\",\"Liechtenstein\",\"Sri Lanka\",\"Liberia\",\"Lesotho\",\"Lithuania\",\"Luxembourg\",\"Latvia\",\"Libya\",\"Morocco\",\"Monaco\",\"Moldova\",\"Montenegro\",\"Saint Martin\",\"Madagascar\",\"Marshall Islands\",\"North Macedonia\",\"Mali\",\"Burma\",\"Mongolia\",\"Macau\",\"Northern Mariana Islands\",\"Martinique\",\"Mauritania\",\"Montserrat\",\"Malta\",\"Mauritius\",\"Maldives\",\"Malawi\",\"Mexico\",\"Malaysia\",\"Mozambique\",\"Namibia\",\"New Caledonia\",\"Niger\",\"Norfolk Island\",\"Nigeria\",\"Nicaragua\",\"Netherlands\",\"Norway\",\"Nepal\",\"Nauru\",\"Niue\",\"New Zealand\",\"Oman\",\"Panama\",\"Peru\",\"French Polynesia\",\"Papua New Guinea\",\"Philippines\",\"Pakistan\",\"Poland\",\"Saint Pierre and Miquelon\",\"Pitcairn\",\"Puerto Rico\",\"Palestinian Territory\",\"Portugal\",\"Palau\",\"Paraguay\",\"Qatar\",\"R\\u00e9union\",\"Romania\",\"Serbia\",\"Russia\",\"Rwanda\",\"Saudi Arabia\",\"Solomon Islands\",\"Seychelles\",\"Sudan\",\"Sweden\",\"Singapore\",\"Saint Helena\",\"Slovenia\",\"Slovakia\",\"Sierra Leone\",\"San Marino\",\"Senegal\",\"Somalia\",\"Suriname\",\"South Sudan\",\"S\\u00e3o Tom\\u00e9 and Principe\",\"El Salvador\",\"Sint Maarten\",\"Syria\",\"Eswatini\",\"Turks and Caicos Islands\",\"Chad\",\"French Southern Territories\",\"Togo\",\"Thailand\",\"Tajikistan\",\"Tokelau\",\"Timor-Leste\",\"Turkmenistan\",\"Tunisia\",\"Tonga\",\"Turkey\",\"Trinidad and Tobago\",\"Tuvalu\",\"Taiwan\",\"Tanzania\",\"Ukraine\",\"Uganda\",\"United States Minor Outlying Islands\",\"United States\",\"Uruguay\",\"Uzbekistan\",\"Vatican City\",\"Saint Vincent and the Grenadines\",\"Venezuela\",\"British Virgin Islands\",\"U.S. Virgin Islands\",\"Vietnam\",\"Vanuatu\",\"Wallis and Futuna\",\"Samoa\",\"Kosovo\",\"Yemen\",\"Mayotte\",\"South Africa\",\"Zambia\",\"Zimbabwe\",\"Unknown or unassigned country\"],\"name\":\"\",\"z\":[0.0,7.0,9.0,1.0,1.0,2.0,2.0,20.0,8.0,69.0,2.0,7.0,185.0,0.0,12.0,3.0,1.0,8.0,9.0,1.0,6.0,1.0,1.0,1.0,1.0,1.0,0.0,16.0,1.0,120.0,27.0,2.0,6.0,10.0,10.0,322.0,1.0,21.0,2.0,6.0,11.0,7.0,0.0,32.0,10.0,263.0,59.0,16.0,23.0,5.0,0.0,1.0,2.0,11.0,59.0,1.0,14.0,2.0,8.0,35.0,14.0,5.0,27.0,3.0,3.0,42.0,13.0,31.0,3.0,2.0,4.0,1.0,133.0,11.0,79.0,1.0,10.0,2.0,1.0,4.0,1.0,6.0,1.0,1.0,1.0,2.0,25.0,0.0,6.0,1.0,1.0,4.0,1.0,8.0,7.0,6.0,9.0,53.0,8.0,7.0,1.0,109.0,1.0,29.0,58.0,8.0,62.0,1.0,4.0,3.0,94.0,15.0,5.0,3.0,4.0,3.0,2.0,17.0,15.0,2.0,2.0,23.0,5.0,3.0,1.0,0.0,8.0,1.0,1.0,6.0,0.0,5.0,13.0,15.0,0.0,5.0,1.0,1.0,22.0,2.0,1.0,4.0,20.0,10.0,0.0,3.0,0.0,2.0,1.0,0.0,1.0,6.0,6.0,55.0,27.0,14.0,0.0,10.0,4.0,1.0,22.0,3.0,13.0,39.0,7.0,1.0,1.0,35.0,5.0,7.0,29.0,26.0,20.0,49.0,38.0,22.0,2.0,0.0,5.0,0.0,27.0,1.0,5.0,2.0,1.0,21.0,3.0,252.0,2.0,32.0,1.0,1.0,8.0,47.0,5.0,1.0,3.0,6.0,4.0,0.0,8.0,4.0,0.0,3.0,2.0,1.0,0.0,7.0,1.0,4.0,3.0,0.0,2.0,38.0,6.0,0.0,4.0,5.0,10.0,3.0,44.0,2.0,1.0,18.0,10.0,28.0,3.0,2.0,702.0,4.0,5.0,0.0,5.0,47.0,1.0,2.0,19.0,3.0,2.0,1.0,1.0,11.0,1.0,67.0,7.0,8.0,0.0],\"type\":\"choropleth\"}],                        {\"template\":{\"data\":{\"bar\":[{\"error_x\":{\"color\":\"#2a3f5f\"},\"error_y\":{\"color\":\"#2a3f5f\"},\"marker\":{\"line\":{\"color\":\"#E5ECF6\",\"width\":0.5},\"pattern\":{\"fillmode\":\"overlay\",\"size\":10,\"solidity\":0.2}},\"type\":\"bar\"}],\"barpolar\":[{\"marker\":{\"line\":{\"color\":\"#E5ECF6\",\"width\":0.5},\"pattern\":{\"fillmode\":\"overlay\",\"size\":10,\"solidity\":0.2}},\"type\":\"barpolar\"}],\"carpet\":[{\"aaxis\":{\"endlinecolor\":\"#2a3f5f\",\"gridcolor\":\"white\",\"linecolor\":\"white\",\"minorgridcolor\":\"white\",\"startlinecolor\":\"#2a3f5f\"},\"baxis\":{\"endlinecolor\":\"#2a3f5f\",\"gridcolor\":\"white\",\"linecolor\":\"white\",\"minorgridcolor\":\"white\",\"startlinecolor\":\"#2a3f5f\"},\"type\":\"carpet\"}],\"choropleth\":[{\"colorbar\":{\"outlinewidth\":0,\"ticks\":\"\"},\"type\":\"choropleth\"}],\"contour\":[{\"colorbar\":{\"outlinewidth\":0,\"ticks\":\"\"},\"colorscale\":[[0.0,\"#0d0887\"],[0.1111111111111111,\"#46039f\"],[0.2222222222222222,\"#7201a8\"],[0.3333333333333333,\"#9c179e\"],[0.4444444444444444,\"#bd3786\"],[0.5555555555555556,\"#d8576b\"],[0.6666666666666666,\"#ed7953\"],[0.7777777777777778,\"#fb9f3a\"],[0.8888888888888888,\"#fdca26\"],[1.0,\"#f0f921\"]],\"type\":\"contour\"}],\"contourcarpet\":[{\"colorbar\":{\"outlinewidth\":0,\"ticks\":\"\"},\"type\":\"contourcarpet\"}],\"heatmap\":[{\"colorbar\":{\"outlinewidth\":0,\"ticks\":\"\"},\"colorscale\":[[0.0,\"#0d0887\"],[0.1111111111111111,\"#46039f\"],[0.2222222222222222,\"#7201a8\"],[0.3333333333333333,\"#9c179e\"],[0.4444444444444444,\"#bd3786\"],[0.5555555555555556,\"#d8576b\"],[0.6666666666666666,\"#ed7953\"],[0.7777777777777778,\"#fb9f3a\"],[0.8888888888888888,\"#fdca26\"],[1.0,\"#f0f921\"]],\"type\":\"heatmap\"}],\"heatmapgl\":[{\"colorbar\":{\"outlinewidth\":0,\"ticks\":\"\"},\"colorscale\":[[0.0,\"#0d0887\"],[0.1111111111111111,\"#46039f\"],[0.2222222222222222,\"#7201a8\"],[0.3333333333333333,\"#9c179e\"],[0.4444444444444444,\"#bd3786\"],[0.5555555555555556,\"#d8576b\"],[0.6666666666666666,\"#ed7953\"],[0.7777777777777778,\"#fb9f3a\"],[0.8888888888888888,\"#fdca26\"],[1.0,\"#f0f921\"]],\"type\":\"heatmapgl\"}],\"histogram\":[{\"marker\":{\"pattern\":{\"fillmode\":\"overlay\",\"size\":10,\"solidity\":0.2}},\"type\":\"histogram\"}],\"histogram2d\":[{\"colorbar\":{\"outlinewidth\":0,\"ticks\":\"\"},\"colorscale\":[[0.0,\"#0d0887\"],[0.1111111111111111,\"#46039f\"],[0.2222222222222222,\"#7201a8\"],[0.3333333333333333,\"#9c179e\"],[0.4444444444444444,\"#bd3786\"],[0.5555555555555556,\"#d8576b\"],[0.6666666666666666,\"#ed7953\"],[0.7777777777777778,\"#fb9f3a\"],[0.8888888888888888,\"#fdca26\"],[1.0,\"#f0f921\"]],\"type\":\"histogram2d\"}],\"histogram2dcontour\":[{\"colorbar\":{\"outlinewidth\":0,\"ticks\":\"\"},\"colorscale\":[[0.0,\"#0d0887\"],[0.1111111111111111,\"#46039f\"],[0.2222222222222222,\"#7201a8\"],[0.3333333333333333,\"#9c179e\"],[0.4444444444444444,\"#bd3786\"],[0.5555555555555556,\"#d8576b\"],[0.6666666666666666,\"#ed7953\"],[0.7777777777777778,\"#fb9f3a\"],[0.8888888888888888,\"#fdca26\"],[1.0,\"#f0f921\"]],\"type\":\"histogram2dcontour\"}],\"mesh3d\":[{\"colorbar\":{\"outlinewidth\":0,\"ticks\":\"\"},\"type\":\"mesh3d\"}],\"parcoords\":[{\"line\":{\"colorbar\":{\"outlinewidth\":0,\"ticks\":\"\"}},\"type\":\"parcoords\"}],\"pie\":[{\"automargin\":true,\"type\":\"pie\"}],\"scatter\":[{\"marker\":{\"colorbar\":{\"outlinewidth\":0,\"ticks\":\"\"}},\"type\":\"scatter\"}],\"scatter3d\":[{\"line\":{\"colorbar\":{\"outlinewidth\":0,\"ticks\":\"\"}},\"marker\":{\"colorbar\":{\"outlinewidth\":0,\"ticks\":\"\"}},\"type\":\"scatter3d\"}],\"scattercarpet\":[{\"marker\":{\"colorbar\":{\"outlinewidth\":0,\"ticks\":\"\"}},\"type\":\"scattercarpet\"}],\"scattergeo\":[{\"marker\":{\"colorbar\":{\"outlinewidth\":0,\"ticks\":\"\"}},\"type\":\"scattergeo\"}],\"scattergl\":[{\"marker\":{\"colorbar\":{\"outlinewidth\":0,\"ticks\":\"\"}},\"type\":\"scattergl\"}],\"scattermapbox\":[{\"marker\":{\"colorbar\":{\"outlinewidth\":0,\"ticks\":\"\"}},\"type\":\"scattermapbox\"}],\"scatterpolar\":[{\"marker\":{\"colorbar\":{\"outlinewidth\":0,\"ticks\":\"\"}},\"type\":\"scatterpolar\"}],\"scatterpolargl\":[{\"marker\":{\"colorbar\":{\"outlinewidth\":0,\"ticks\":\"\"}},\"type\":\"scatterpolargl\"}],\"scatterternary\":[{\"marker\":{\"colorbar\":{\"outlinewidth\":0,\"ticks\":\"\"}},\"type\":\"scatterternary\"}],\"surface\":[{\"colorbar\":{\"outlinewidth\":0,\"ticks\":\"\"},\"colorscale\":[[0.0,\"#0d0887\"],[0.1111111111111111,\"#46039f\"],[0.2222222222222222,\"#7201a8\"],[0.3333333333333333,\"#9c179e\"],[0.4444444444444444,\"#bd3786\"],[0.5555555555555556,\"#d8576b\"],[0.6666666666666666,\"#ed7953\"],[0.7777777777777778,\"#fb9f3a\"],[0.8888888888888888,\"#fdca26\"],[1.0,\"#f0f921\"]],\"type\":\"surface\"}],\"table\":[{\"cells\":{\"fill\":{\"color\":\"#EBF0F8\"},\"line\":{\"color\":\"white\"}},\"header\":{\"fill\":{\"color\":\"#C8D4E3\"},\"line\":{\"color\":\"white\"}},\"type\":\"table\"}]},\"layout\":{\"annotationdefaults\":{\"arrowcolor\":\"#2a3f5f\",\"arrowhead\":0,\"arrowwidth\":1},\"autotypenumbers\":\"strict\",\"coloraxis\":{\"colorbar\":{\"outlinewidth\":0,\"ticks\":\"\"}},\"colorscale\":{\"diverging\":[[0,\"#8e0152\"],[0.1,\"#c51b7d\"],[0.2,\"#de77ae\"],[0.3,\"#f1b6da\"],[0.4,\"#fde0ef\"],[0.5,\"#f7f7f7\"],[0.6,\"#e6f5d0\"],[0.7,\"#b8e186\"],[0.8,\"#7fbc41\"],[0.9,\"#4d9221\"],[1,\"#276419\"]],\"sequential\":[[0.0,\"#0d0887\"],[0.1111111111111111,\"#46039f\"],[0.2222222222222222,\"#7201a8\"],[0.3333333333333333,\"#9c179e\"],[0.4444444444444444,\"#bd3786\"],[0.5555555555555556,\"#d8576b\"],[0.6666666666666666,\"#ed7953\"],[0.7777777777777778,\"#fb9f3a\"],[0.8888888888888888,\"#fdca26\"],[1.0,\"#f0f921\"]],\"sequentialminus\":[[0.0,\"#0d0887\"],[0.1111111111111111,\"#46039f\"],[0.2222222222222222,\"#7201a8\"],[0.3333333333333333,\"#9c179e\"],[0.4444444444444444,\"#bd3786\"],[0.5555555555555556,\"#d8576b\"],[0.6666666666666666,\"#ed7953\"],[0.7777777777777778,\"#fb9f3a\"],[0.8888888888888888,\"#fdca26\"],[1.0,\"#f0f921\"]]},\"colorway\":[\"#636efa\",\"#EF553B\",\"#00cc96\",\"#ab63fa\",\"#FFA15A\",\"#19d3f3\",\"#FF6692\",\"#B6E880\",\"#FF97FF\",\"#FECB52\"],\"font\":{\"color\":\"#2a3f5f\"},\"geo\":{\"bgcolor\":\"white\",\"lakecolor\":\"white\",\"landcolor\":\"#E5ECF6\",\"showlakes\":true,\"showland\":true,\"subunitcolor\":\"white\"},\"hoverlabel\":{\"align\":\"left\"},\"hovermode\":\"closest\",\"mapbox\":{\"style\":\"light\"},\"paper_bgcolor\":\"white\",\"plot_bgcolor\":\"#E5ECF6\",\"polar\":{\"angularaxis\":{\"gridcolor\":\"white\",\"linecolor\":\"white\",\"ticks\":\"\"},\"bgcolor\":\"#E5ECF6\",\"radialaxis\":{\"gridcolor\":\"white\",\"linecolor\":\"white\",\"ticks\":\"\"}},\"scene\":{\"xaxis\":{\"backgroundcolor\":\"#E5ECF6\",\"gridcolor\":\"white\",\"gridwidth\":2,\"linecolor\":\"white\",\"showbackground\":true,\"ticks\":\"\",\"zerolinecolor\":\"white\"},\"yaxis\":{\"backgroundcolor\":\"#E5ECF6\",\"gridcolor\":\"white\",\"gridwidth\":2,\"linecolor\":\"white\",\"showbackground\":true,\"ticks\":\"\",\"zerolinecolor\":\"white\"},\"zaxis\":{\"backgroundcolor\":\"#E5ECF6\",\"gridcolor\":\"white\",\"gridwidth\":2,\"linecolor\":\"white\",\"showbackground\":true,\"ticks\":\"\",\"zerolinecolor\":\"white\"}},\"shapedefaults\":{\"line\":{\"color\":\"#2a3f5f\"}},\"ternary\":{\"aaxis\":{\"gridcolor\":\"white\",\"linecolor\":\"white\",\"ticks\":\"\"},\"baxis\":{\"gridcolor\":\"white\",\"linecolor\":\"white\",\"ticks\":\"\"},\"bgcolor\":\"#E5ECF6\",\"caxis\":{\"gridcolor\":\"white\",\"linecolor\":\"white\",\"ticks\":\"\"}},\"title\":{\"x\":0.05},\"xaxis\":{\"automargin\":true,\"gridcolor\":\"white\",\"linecolor\":\"white\",\"ticks\":\"\",\"title\":{\"standoff\":15},\"zerolinecolor\":\"white\",\"zerolinewidth\":2},\"yaxis\":{\"automargin\":true,\"gridcolor\":\"white\",\"linecolor\":\"white\",\"ticks\":\"\",\"title\":{\"standoff\":15},\"zerolinecolor\":\"white\",\"zerolinewidth\":2}}},\"geo\":{\"domain\":{\"x\":[0.0,1.0],\"y\":[0.0,1.0]},\"center\":{}},\"coloraxis\":{\"colorbar\":{\"title\":{\"text\":\"number_of_medium_airports\"}},\"colorscale\":[[0.0,\"#440154\"],[0.1111111111111111,\"#482878\"],[0.2222222222222222,\"#3e4989\"],[0.3333333333333333,\"#31688e\"],[0.4444444444444444,\"#26828e\"],[0.5555555555555556,\"#1f9e89\"],[0.6666666666666666,\"#35b779\"],[0.7777777777777778,\"#6ece58\"],[0.8888888888888888,\"#b5de2b\"],[1.0,\"#fde725\"]]},\"legend\":{\"tracegroupgap\":0},\"title\":{\"text\":\"number OF MEDIUM airports per country\"}},                        {\"responsive\": true}                    ).then(function(){\n",
       "                            \n",
       "var gd = document.getElementById('4b07ffca-034d-4a6e-be0c-30b09c822057');\n",
       "var x = new MutationObserver(function (mutations, observer) {{\n",
       "        var display = window.getComputedStyle(gd).display;\n",
       "        if (!display || display === 'none') {{\n",
       "            console.log([gd, 'removed!']);\n",
       "            Plotly.purge(gd);\n",
       "            observer.disconnect();\n",
       "        }}\n",
       "}});\n",
       "\n",
       "// Listen for the removal of the full notebook cells\n",
       "var notebookContainer = gd.closest('#notebook-container');\n",
       "if (notebookContainer) {{\n",
       "    x.observe(notebookContainer, {childList: true});\n",
       "}}\n",
       "\n",
       "// Listen for the clearing of the current output cell\n",
       "var outputEl = gd.closest('.output');\n",
       "if (outputEl) {{\n",
       "    x.observe(outputEl, {childList: true});\n",
       "}}\n",
       "\n",
       "                        })                };                });            </script>        </div>"
      ]
     },
     "metadata": {},
     "output_type": "display_data"
    }
   ],
   "source": [
    "px.choropleth(df_countries, locations=\"name\", \n",
    "                    locationmode='country names', color=\"number_of_medium_airports\", \n",
    "                    hover_name=\"number_of_medium_airports\",\n",
    "                    color_continuous_scale=\"Viridis\",\n",
    "                    title='number OF MEDIUM airports per country'\n",
    ")"
   ]
  },
  {
   "cell_type": "markdown",
   "id": "5e8b5b61",
   "metadata": {},
   "source": [
    "## ¿Qué se hace cuando se han modificado y limpiado los datos y se quiere guardar esa información?\n"
   ]
  },
  {
   "cell_type": "code",
   "execution_count": 54,
   "id": "75dcfd29",
   "metadata": {},
   "outputs": [
    {
     "data": {
      "text/html": [
       "<a href='aeropuertos' target='_blank'>aeropuertos</a><br>"
      ],
      "text/plain": [
       "/Users/magalidominguezlalli/Curso Datos Oct 2022/aeropuertos"
      ]
     },
     "execution_count": 54,
     "metadata": {},
     "output_type": "execute_result"
    }
   ],
   "source": [
    "from IPython.display import FileLink\n",
    "\n",
    "# elegimos el formato, por ejemplo en CSV\n",
    "\n",
    "df.to_csv(\"aeropuertos\", index=False)\n",
    "FileLink(\"aeropuertos\")"
   ]
  },
  {
   "cell_type": "markdown",
   "id": "40bd4d63",
   "metadata": {},
   "source": [
    "### Muchas veces esa información la queremos guardar también lista en números\n",
    "\n",
    "https://elmundodelosdatos.com/tecnicas-para-codificar-variables-categoricas-ordinal-one-hot/"
   ]
  },
  {
   "cell_type": "code",
   "execution_count": null,
   "id": "0aa775a5",
   "metadata": {},
   "outputs": [],
   "source": []
  }
 ],
 "metadata": {
  "kernelspec": {
   "display_name": "Python 3 (ipykernel)",
   "language": "python",
   "name": "python3"
  },
  "language_info": {
   "codemirror_mode": {
    "name": "ipython",
    "version": 3
   },
   "file_extension": ".py",
   "mimetype": "text/x-python",
   "name": "python",
   "nbconvert_exporter": "python",
   "pygments_lexer": "ipython3",
   "version": "3.9.12"
  }
 },
 "nbformat": 4,
 "nbformat_minor": 5
}
